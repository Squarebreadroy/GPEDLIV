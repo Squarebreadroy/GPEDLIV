{
 "cells": [
  {
   "cell_type": "code",
   "execution_count": 2,
   "metadata": {},
   "outputs": [],
   "source": [
    "#Library Import \n",
    "import numpy as np\n",
    "import pandas as pd\n",
    "import matplotlib.pyplot as plt\n",
    "from sklearn.model_selection import train_test_split\n",
    "from sklearn.linear_model import LinearRegression\n",
    "from sklearn.metrics import mean_squared_error, r2_score, mean_absolute_error\n",
    "from sklearn.preprocessing import OneHotEncoder, StandardScaler\n",
    "from sklearn.linear_model import Ridge, Lasso\n",
    "from sklearn.model_selection import cross_val_score\n",
    "from sklearn.ensemble import RandomForestRegressor\n",
    "import seaborn as sns\n",
    "import tensorflow as tf\n",
    "from tensorflow.keras.models import Sequential\n",
    "from tensorflow.keras.layers import Dense, Dropout\n",
    "from tensorflow.keras.callbacks import EarlyStopping\n",
    "from sklearn.ensemble import RandomForestRegressor\n",
    "import optuna\n",
    "import warnings\n",
    "\n",
    "# Ignore warnings \n",
    "warnings.filterwarnings('ignore')\n"
   ]
  },
  {
   "cell_type": "markdown",
   "metadata": {},
   "source": [
    "# 2. Data Modeling (LinearRegression, RandomForest)\n",
    "#### 2.1 Major Road Data"
   ]
  },
  {
   "cell_type": "code",
   "execution_count": 3,
   "metadata": {},
   "outputs": [],
   "source": [
    "#Load File\n",
    "df = pd.read_excel('laei-2019-major-roads-vkm-flows-speeds.xlsx')"
   ]
  },
  {
   "cell_type": "code",
   "execution_count": 4,
   "metadata": {},
   "outputs": [
    {
     "name": "stdout",
     "output_type": "stream",
     "text": [
      "Before Cleaning :  (79437, 48)\n",
      "After Cleaning :  (44826, 46)\n"
     ]
    }
   ],
   "source": [
    "print('Before Cleaning : ' ,df.shape)\n",
    "\n",
    "#Remove hyphen\n",
    "df = df.applymap(lambda x: x.strip() if isinstance(x, str) else x)\n",
    "df.replace('-', np.nan, inplace=True)\n",
    "\n",
    "#Missing value Handling\n",
    "df = df.dropna()\n",
    "\n",
    "#Rename columns\n",
    "df.columns = [x.strip() for x in df.columns]\n",
    "df = df.rename(columns ={'Speed (km/hr) - Except Buses':'Speed'})\n",
    "\n",
    "#Drop total columns\n",
    "df = df.drop(['AADT 2019 - Total','VKM 2019 - Total'],axis=1)\n",
    "\n",
    "print('After Cleaning : ' ,df.shape)"
   ]
  },
  {
   "cell_type": "code",
   "execution_count": 5,
   "metadata": {},
   "outputs": [],
   "source": [
    "#Handling AADT and VKM data\n",
    "id_col = ['TOID','LAEI Zone', 'Borough', 'Road Classification','Speed','Link Length (m)']\n",
    "aadt_col = [col for col in df.columns if col.startswith('AADT')]\n",
    "vkm_col = [col for col in df.columns if col.startswith('VKM')]"
   ]
  },
  {
   "cell_type": "code",
   "execution_count": 6,
   "metadata": {},
   "outputs": [
    {
     "data": {
      "text/html": [
       "<div>\n",
       "<style scoped>\n",
       "    .dataframe tbody tr th:only-of-type {\n",
       "        vertical-align: middle;\n",
       "    }\n",
       "\n",
       "    .dataframe tbody tr th {\n",
       "        vertical-align: top;\n",
       "    }\n",
       "\n",
       "    .dataframe thead th {\n",
       "        text-align: right;\n",
       "    }\n",
       "</style>\n",
       "<table border=\"1\" class=\"dataframe\">\n",
       "  <thead>\n",
       "    <tr style=\"text-align: right;\">\n",
       "      <th></th>\n",
       "      <th>TOID</th>\n",
       "      <th>LAEI Zone</th>\n",
       "      <th>Borough</th>\n",
       "      <th>Road Classification</th>\n",
       "      <th>Speed</th>\n",
       "      <th>Link Length (m)</th>\n",
       "      <th>VehicleType</th>\n",
       "      <th>AADT</th>\n",
       "    </tr>\n",
       "  </thead>\n",
       "  <tbody>\n",
       "    <tr>\n",
       "      <th>0</th>\n",
       "      <td>osgb4000000030400377</td>\n",
       "      <td>Non-GLA</td>\n",
       "      <td>Non-GLA</td>\n",
       "      <td>A Road</td>\n",
       "      <td>44.0</td>\n",
       "      <td>22</td>\n",
       "      <td>Car</td>\n",
       "      <td>5898.0</td>\n",
       "    </tr>\n",
       "    <tr>\n",
       "      <th>1</th>\n",
       "      <td>osgb4000000030151183</td>\n",
       "      <td>Non-GLA</td>\n",
       "      <td>Non-GLA</td>\n",
       "      <td>A Road</td>\n",
       "      <td>37.0</td>\n",
       "      <td>105</td>\n",
       "      <td>Car</td>\n",
       "      <td>6228.0</td>\n",
       "    </tr>\n",
       "    <tr>\n",
       "      <th>2</th>\n",
       "      <td>osgb4000000030090345</td>\n",
       "      <td>Non-GLA</td>\n",
       "      <td>Non-GLA</td>\n",
       "      <td>A Road</td>\n",
       "      <td>46.0</td>\n",
       "      <td>187</td>\n",
       "      <td>Car</td>\n",
       "      <td>3828.0</td>\n",
       "    </tr>\n",
       "    <tr>\n",
       "      <th>3</th>\n",
       "      <td>osgb4000000027948232</td>\n",
       "      <td>Non-GLA</td>\n",
       "      <td>Non-GLA</td>\n",
       "      <td>A Road</td>\n",
       "      <td>34.0</td>\n",
       "      <td>51</td>\n",
       "      <td>Car</td>\n",
       "      <td>7465.0</td>\n",
       "    </tr>\n",
       "    <tr>\n",
       "      <th>4</th>\n",
       "      <td>osgb4000000030078494</td>\n",
       "      <td>Non-GLA</td>\n",
       "      <td>Non-GLA</td>\n",
       "      <td>A Road</td>\n",
       "      <td>42.0</td>\n",
       "      <td>511</td>\n",
       "      <td>Car</td>\n",
       "      <td>13680.0</td>\n",
       "    </tr>\n",
       "  </tbody>\n",
       "</table>\n",
       "</div>"
      ],
      "text/plain": [
       "                   TOID LAEI Zone  Borough Road Classification  Speed   \n",
       "0  osgb4000000030400377   Non-GLA  Non-GLA              A Road   44.0  \\\n",
       "1  osgb4000000030151183   Non-GLA  Non-GLA              A Road   37.0   \n",
       "2  osgb4000000030090345   Non-GLA  Non-GLA              A Road   46.0   \n",
       "3  osgb4000000027948232   Non-GLA  Non-GLA              A Road   34.0   \n",
       "4  osgb4000000030078494   Non-GLA  Non-GLA              A Road   42.0   \n",
       "\n",
       "   Link Length (m) VehicleType     AADT  \n",
       "0               22         Car   5898.0  \n",
       "1              105         Car   6228.0  \n",
       "2              187         Car   3828.0  \n",
       "3               51         Car   7465.0  \n",
       "4              511         Car  13680.0  "
      ]
     },
     "execution_count": 6,
     "metadata": {},
     "output_type": "execute_result"
    }
   ],
   "source": [
    "#For AADT data\n",
    "df_aadt = df[id_col + aadt_col]\n",
    "df_aadt['Car'] = df_aadt['AADT Petrol Car'] + df_aadt['AADT Diesel Car'] + df_aadt['AADT Taxi']\n",
    "df_aadt['Public Transport'] = df_aadt['AADT 2019 - Buses'] + df_aadt['AADT 2019 - Coaches']\n",
    "df_aadt['PHV'] = df_aadt['AADT Petrol PHV'] + df_aadt['AADT Diesel PHV']\n",
    "df_aadt['LGV'] = df_aadt['AADT Petrol LGV'] + df_aadt['AADT Diesel LGV']\n",
    "df_aadt['Rigid'] = df_aadt['AADT 2019 - HGVs - Rigid - 2 Axles'] + df_aadt['AADT 2019 - HGVs - Rigid - 3 Axles'] + df_aadt['AADT 2019 - HGVs - Rigid - 4 or more Axles']\n",
    "df_aadt['Artic'] = df_aadt['AADT 2019 - HGVs - Articulated - 3 to 4 Axles'] + df_aadt['AADT 2019 - HGVs - Articulated - 5 Axles'] + df_aadt['AADT 2019 - HGVs - Articulated - 6 Axles']\n",
    "aadt_col = ['Car','Public Transport','PHV','LGV','Rigid','Artic']\n",
    "df_aadt = df_aadt.melt(id_vars=id_col,\n",
    "                  value_vars=aadt_col, var_name='VehicleType', value_name='AADT')\n",
    "\n",
    "df_aadt['VehicleType'] = df_aadt['VehicleType'].str.replace('AADT 2019 - ','')\n",
    "df_aadt['VehicleType'] = df_aadt['VehicleType'].str.replace('AADT ','')\n",
    "\n",
    "df_aadt.head()"
   ]
  },
  {
   "cell_type": "code",
   "execution_count": 7,
   "metadata": {},
   "outputs": [
    {
     "data": {
      "text/html": [
       "<div>\n",
       "<style scoped>\n",
       "    .dataframe tbody tr th:only-of-type {\n",
       "        vertical-align: middle;\n",
       "    }\n",
       "\n",
       "    .dataframe tbody tr th {\n",
       "        vertical-align: top;\n",
       "    }\n",
       "\n",
       "    .dataframe thead th {\n",
       "        text-align: right;\n",
       "    }\n",
       "</style>\n",
       "<table border=\"1\" class=\"dataframe\">\n",
       "  <thead>\n",
       "    <tr style=\"text-align: right;\">\n",
       "      <th></th>\n",
       "      <th>TOID</th>\n",
       "      <th>LAEI Zone</th>\n",
       "      <th>Borough</th>\n",
       "      <th>Road Classification</th>\n",
       "      <th>Speed</th>\n",
       "      <th>Link Length (m)</th>\n",
       "      <th>VehicleType</th>\n",
       "      <th>VKM</th>\n",
       "    </tr>\n",
       "  </thead>\n",
       "  <tbody>\n",
       "    <tr>\n",
       "      <th>0</th>\n",
       "      <td>osgb4000000030400377</td>\n",
       "      <td>Non-GLA</td>\n",
       "      <td>Non-GLA</td>\n",
       "      <td>A Road</td>\n",
       "      <td>44.0</td>\n",
       "      <td>22</td>\n",
       "      <td>Car</td>\n",
       "      <td>47357.0</td>\n",
       "    </tr>\n",
       "    <tr>\n",
       "      <th>1</th>\n",
       "      <td>osgb4000000030151183</td>\n",
       "      <td>Non-GLA</td>\n",
       "      <td>Non-GLA</td>\n",
       "      <td>A Road</td>\n",
       "      <td>37.0</td>\n",
       "      <td>105</td>\n",
       "      <td>Car</td>\n",
       "      <td>238209.0</td>\n",
       "    </tr>\n",
       "    <tr>\n",
       "      <th>2</th>\n",
       "      <td>osgb4000000030090345</td>\n",
       "      <td>Non-GLA</td>\n",
       "      <td>Non-GLA</td>\n",
       "      <td>A Road</td>\n",
       "      <td>46.0</td>\n",
       "      <td>187</td>\n",
       "      <td>Car</td>\n",
       "      <td>261606.0</td>\n",
       "    </tr>\n",
       "    <tr>\n",
       "      <th>3</th>\n",
       "      <td>osgb4000000027948232</td>\n",
       "      <td>Non-GLA</td>\n",
       "      <td>Non-GLA</td>\n",
       "      <td>A Road</td>\n",
       "      <td>34.0</td>\n",
       "      <td>51</td>\n",
       "      <td>Car</td>\n",
       "      <td>138959.0</td>\n",
       "    </tr>\n",
       "    <tr>\n",
       "      <th>4</th>\n",
       "      <td>osgb4000000030078494</td>\n",
       "      <td>Non-GLA</td>\n",
       "      <td>Non-GLA</td>\n",
       "      <td>A Road</td>\n",
       "      <td>42.0</td>\n",
       "      <td>511</td>\n",
       "      <td>Car</td>\n",
       "      <td>2551410.0</td>\n",
       "    </tr>\n",
       "  </tbody>\n",
       "</table>\n",
       "</div>"
      ],
      "text/plain": [
       "                   TOID LAEI Zone  Borough Road Classification  Speed   \n",
       "0  osgb4000000030400377   Non-GLA  Non-GLA              A Road   44.0  \\\n",
       "1  osgb4000000030151183   Non-GLA  Non-GLA              A Road   37.0   \n",
       "2  osgb4000000030090345   Non-GLA  Non-GLA              A Road   46.0   \n",
       "3  osgb4000000027948232   Non-GLA  Non-GLA              A Road   34.0   \n",
       "4  osgb4000000030078494   Non-GLA  Non-GLA              A Road   42.0   \n",
       "\n",
       "   Link Length (m) VehicleType        VKM  \n",
       "0               22         Car    47357.0  \n",
       "1              105         Car   238209.0  \n",
       "2              187         Car   261606.0  \n",
       "3               51         Car   138959.0  \n",
       "4              511         Car  2551410.0  "
      ]
     },
     "execution_count": 7,
     "metadata": {},
     "output_type": "execute_result"
    }
   ],
   "source": [
    "#For VKM data\n",
    "df_vkm = df[id_col + vkm_col]\n",
    "df_vkm['Car'] = df_vkm['VKM Petrol Car'] + df_vkm['VKM Diesel Car'] + df_vkm['VKM Taxi']\n",
    "df_vkm['Public Transport'] = df_vkm['VKM 2019 - Buses'] + df_vkm['VKM 2019 - Coaches']\n",
    "df_vkm['PHV'] = df_vkm['VKM Petrol PHV'] + df_vkm['VKM Diesel PHV']\n",
    "df_vkm['LGV'] = df_vkm['VKM Petrol LGV'] + df_vkm['VKM Diesel LGV']\n",
    "df_vkm['Rigid'] = df_vkm['VKM 2019 - HGVs - Rigid - 2 Axles'] + df_vkm['VKM 2019 - HGVs - Rigid - 3 Axles'] + df_vkm['VKM 2019 - HGVs - Rigid - 4 or more Axles']\n",
    "df_vkm['Artic'] = df_vkm['VKM 2019 - HGVs - Articulated - 3 to 4 Axles'] + df_vkm['VKM 2019 - HGVs - Articulated - 5 Axles'] + df_vkm['VKM 2019 - HGVs - Articulated - 6 Axles']\n",
    "vkm_col = ['Car','Public Transport','PHV','LGV','Rigid','Artic']\n",
    "df_vkm = df_vkm.melt(id_vars=id_col,\n",
    "                  value_vars=vkm_col, var_name='VehicleType', value_name='VKM')\n",
    "\n",
    "df_vkm.head()"
   ]
  },
  {
   "cell_type": "code",
   "execution_count": 8,
   "metadata": {},
   "outputs": [
    {
     "data": {
      "text/plain": [
       "(268956, 9)"
      ]
     },
     "execution_count": 8,
     "metadata": {},
     "output_type": "execute_result"
    }
   ],
   "source": [
    "#Merge AADT and VKM data\n",
    "df_clean = pd.merge(df_aadt, df_vkm, on=id_col + ['VehicleType'], how='inner')\n",
    "\n",
    "df_clean.shape"
   ]
  },
  {
   "cell_type": "code",
   "execution_count": 9,
   "metadata": {},
   "outputs": [
    {
     "data": {
      "text/plain": [
       "TOID                    object\n",
       "LAEI Zone               object\n",
       "Borough                 object\n",
       "Road Classification     object\n",
       "Speed                  float64\n",
       "Link Length (m)          int64\n",
       "VehicleType             object\n",
       "AADT                   float64\n",
       "VKM                    float64\n",
       "dtype: object"
      ]
     },
     "execution_count": 9,
     "metadata": {},
     "output_type": "execute_result"
    }
   ],
   "source": [
    "#Check datatype\n",
    "df_clean.dtypes"
   ]
  },
  {
   "cell_type": "code",
   "execution_count": 10,
   "metadata": {},
   "outputs": [
    {
     "data": {
      "text/plain": [
       "array(['Car', 'Public Transport', 'PHV', 'LGV', 'Rigid', 'Artic'],\n",
       "      dtype=object)"
      ]
     },
     "execution_count": 10,
     "metadata": {},
     "output_type": "execute_result"
    }
   ],
   "source": [
    "#Check VehicleType\n",
    "df_clean.VehicleType.unique()"
   ]
  },
  {
   "cell_type": "markdown",
   "metadata": {},
   "source": [
    "### 2.2 Emission Data"
   ]
  },
  {
   "cell_type": "code",
   "execution_count": 11,
   "metadata": {},
   "outputs": [],
   "source": [
    "#Load Data - Choose Co2 sheet\n",
    "emission = pd.read_excel('LAEI2019-nox-pm-co2-major-roads-link-emissions.xlsx',sheet_name='CO2 Road Link Emissions')"
   ]
  },
  {
   "cell_type": "code",
   "execution_count": 12,
   "metadata": {},
   "outputs": [
    {
     "name": "stdout",
     "output_type": "stream",
     "text": [
      "Before Cleaning :  (79439, 51)\n",
      "After Cleaning :  (79372, 51)\n"
     ]
    }
   ],
   "source": [
    "#Missing value Handling\n",
    "print('Before Cleaning : ' ,emission.shape)\n",
    "emission = emission.dropna()\n",
    "print('After Cleaning : ' ,emission.shape)"
   ]
  },
  {
   "cell_type": "code",
   "execution_count": 13,
   "metadata": {},
   "outputs": [
    {
     "data": {
      "text/html": [
       "<div>\n",
       "<style scoped>\n",
       "    .dataframe tbody tr th:only-of-type {\n",
       "        vertical-align: middle;\n",
       "    }\n",
       "\n",
       "    .dataframe tbody tr th {\n",
       "        vertical-align: top;\n",
       "    }\n",
       "\n",
       "    .dataframe thead th {\n",
       "        text-align: right;\n",
       "    }\n",
       "</style>\n",
       "<table border=\"1\" class=\"dataframe\">\n",
       "  <thead>\n",
       "    <tr style=\"text-align: right;\">\n",
       "      <th></th>\n",
       "      <th>TOID</th>\n",
       "      <th>Car</th>\n",
       "      <th>Public Transport</th>\n",
       "      <th>PHV</th>\n",
       "      <th>LGV</th>\n",
       "      <th>Rigid</th>\n",
       "      <th>Artic</th>\n",
       "    </tr>\n",
       "  </thead>\n",
       "  <tbody>\n",
       "    <tr>\n",
       "      <th>0</th>\n",
       "      <td>osgb4000000027865913</td>\n",
       "      <td>4475.104067</td>\n",
       "      <td>287.478165</td>\n",
       "      <td>135.608199</td>\n",
       "      <td>1444.578881</td>\n",
       "      <td>719.907087</td>\n",
       "      <td>812.958826</td>\n",
       "    </tr>\n",
       "    <tr>\n",
       "      <th>1</th>\n",
       "      <td>osgb4000000027865914</td>\n",
       "      <td>4408.603867</td>\n",
       "      <td>340.049210</td>\n",
       "      <td>153.854622</td>\n",
       "      <td>1907.114693</td>\n",
       "      <td>874.143183</td>\n",
       "      <td>988.081118</td>\n",
       "    </tr>\n",
       "    <tr>\n",
       "      <th>2</th>\n",
       "      <td>osgb4000000027865915</td>\n",
       "      <td>5005.822564</td>\n",
       "      <td>130.965613</td>\n",
       "      <td>350.688776</td>\n",
       "      <td>2395.623183</td>\n",
       "      <td>1603.731357</td>\n",
       "      <td>5817.421752</td>\n",
       "    </tr>\n",
       "    <tr>\n",
       "      <th>3</th>\n",
       "      <td>osgb4000000027865916</td>\n",
       "      <td>5680.263177</td>\n",
       "      <td>155.428179</td>\n",
       "      <td>337.417918</td>\n",
       "      <td>2518.839822</td>\n",
       "      <td>1774.656002</td>\n",
       "      <td>6425.954597</td>\n",
       "    </tr>\n",
       "    <tr>\n",
       "      <th>4</th>\n",
       "      <td>osgb4000000027865917</td>\n",
       "      <td>3392.920660</td>\n",
       "      <td>111.135284</td>\n",
       "      <td>200.001553</td>\n",
       "      <td>1788.899661</td>\n",
       "      <td>993.792755</td>\n",
       "      <td>3599.797813</td>\n",
       "    </tr>\n",
       "  </tbody>\n",
       "</table>\n",
       "</div>"
      ],
      "text/plain": [
       "                   TOID          Car  Public Transport         PHV   \n",
       "0  osgb4000000027865913  4475.104067        287.478165  135.608199  \\\n",
       "1  osgb4000000027865914  4408.603867        340.049210  153.854622   \n",
       "2  osgb4000000027865915  5005.822564        130.965613  350.688776   \n",
       "3  osgb4000000027865916  5680.263177        155.428179  337.417918   \n",
       "4  osgb4000000027865917  3392.920660        111.135284  200.001553   \n",
       "\n",
       "           LGV        Rigid        Artic  \n",
       "0  1444.578881   719.907087   812.958826  \n",
       "1  1907.114693   874.143183   988.081118  \n",
       "2  2395.623183  1603.731357  5817.421752  \n",
       "3  2518.839822  1774.656002  6425.954597  \n",
       "4  1788.899661   993.792755  3599.797813  "
      ]
     },
     "execution_count": 13,
     "metadata": {},
     "output_type": "execute_result"
    }
   ],
   "source": [
    "#Handling emission data\n",
    "TargetYear_col = [col for col in emission.columns if col.endswith('2019') or col in ['TOID', 'pollutant', 'emissions-units']]\n",
    "emission = emission[TargetYear_col]\n",
    "emission['Car'] = emission['Road-Car-Petrol-2019'] + emission['Road-Car-Diesel-2019'] + emission['Road-Taxi-2019']\n",
    "emission['Public Transport'] = emission['Road-TfL-Bus-2019'] + emission['Road-Non-TfL-Bus-or-Coach-2019']\n",
    "emission['PHV'] = emission['Road-PHV-Petrol-2019'] + emission['Road-PHV-Diesel-2019']\n",
    "emission['LGV'] = emission['Road-LGV-Petrol-2019'] + emission['Road-LGV-Diesel-2019']\n",
    "emission['Rigid'] = emission['Road-HGV-Rigid-2019']\n",
    "emission['Artic'] = emission['Road-HGV-Articulated-2019']\n",
    "emission_col = ['Car','Public Transport','PHV','LGV','Rigid','Artic']\n",
    "emission = emission[['TOID']+emission_col]\n",
    "\n",
    "emission.head()\n"
   ]
  },
  {
   "cell_type": "code",
   "execution_count": 14,
   "metadata": {},
   "outputs": [
    {
     "data": {
      "text/html": [
       "<div>\n",
       "<style scoped>\n",
       "    .dataframe tbody tr th:only-of-type {\n",
       "        vertical-align: middle;\n",
       "    }\n",
       "\n",
       "    .dataframe tbody tr th {\n",
       "        vertical-align: top;\n",
       "    }\n",
       "\n",
       "    .dataframe thead th {\n",
       "        text-align: right;\n",
       "    }\n",
       "</style>\n",
       "<table border=\"1\" class=\"dataframe\">\n",
       "  <thead>\n",
       "    <tr style=\"text-align: right;\">\n",
       "      <th></th>\n",
       "      <th>TOID</th>\n",
       "      <th>VehicleType</th>\n",
       "      <th>Emission Value</th>\n",
       "    </tr>\n",
       "  </thead>\n",
       "  <tbody>\n",
       "    <tr>\n",
       "      <th>0</th>\n",
       "      <td>osgb4000000027865913</td>\n",
       "      <td>Car</td>\n",
       "      <td>4475.104067</td>\n",
       "    </tr>\n",
       "    <tr>\n",
       "      <th>1</th>\n",
       "      <td>osgb4000000027865914</td>\n",
       "      <td>Car</td>\n",
       "      <td>4408.603867</td>\n",
       "    </tr>\n",
       "    <tr>\n",
       "      <th>2</th>\n",
       "      <td>osgb4000000027865915</td>\n",
       "      <td>Car</td>\n",
       "      <td>5005.822564</td>\n",
       "    </tr>\n",
       "    <tr>\n",
       "      <th>3</th>\n",
       "      <td>osgb4000000027865916</td>\n",
       "      <td>Car</td>\n",
       "      <td>5680.263177</td>\n",
       "    </tr>\n",
       "    <tr>\n",
       "      <th>4</th>\n",
       "      <td>osgb4000000027865917</td>\n",
       "      <td>Car</td>\n",
       "      <td>3392.920660</td>\n",
       "    </tr>\n",
       "  </tbody>\n",
       "</table>\n",
       "</div>"
      ],
      "text/plain": [
       "                   TOID VehicleType  Emission Value\n",
       "0  osgb4000000027865913         Car     4475.104067\n",
       "1  osgb4000000027865914         Car     4408.603867\n",
       "2  osgb4000000027865915         Car     5005.822564\n",
       "3  osgb4000000027865916         Car     5680.263177\n",
       "4  osgb4000000027865917         Car     3392.920660"
      ]
     },
     "execution_count": 14,
     "metadata": {},
     "output_type": "execute_result"
    }
   ],
   "source": [
    "#Melt table for VehicleType\n",
    "emission_clean = emission.melt(id_vars=['TOID'],\n",
    "                       value_vars=emission_col, var_name='VehicleType', value_name='Emission Value')\n",
    "\n",
    "emission_clean.head()"
   ]
  },
  {
   "cell_type": "markdown",
   "metadata": {},
   "source": [
    "### 2.3 Main DataFrame"
   ]
  },
  {
   "cell_type": "code",
   "execution_count": 15,
   "metadata": {},
   "outputs": [
    {
     "data": {
      "text/plain": [
       "(268818, 10)"
      ]
     },
     "execution_count": 15,
     "metadata": {},
     "output_type": "execute_result"
    }
   ],
   "source": [
    "#Merge table for main dataframe\n",
    "main_df = pd.merge(df_clean,emission_clean,on=['TOID','VehicleType'],how='inner')\n",
    "main_df.shape\n"
   ]
  },
  {
   "cell_type": "code",
   "execution_count": 16,
   "metadata": {},
   "outputs": [
    {
     "data": {
      "text/html": [
       "<div>\n",
       "<style scoped>\n",
       "    .dataframe tbody tr th:only-of-type {\n",
       "        vertical-align: middle;\n",
       "    }\n",
       "\n",
       "    .dataframe tbody tr th {\n",
       "        vertical-align: top;\n",
       "    }\n",
       "\n",
       "    .dataframe thead th {\n",
       "        text-align: right;\n",
       "    }\n",
       "</style>\n",
       "<table border=\"1\" class=\"dataframe\">\n",
       "  <thead>\n",
       "    <tr style=\"text-align: right;\">\n",
       "      <th></th>\n",
       "      <th>TOID</th>\n",
       "      <th>LAEI Zone</th>\n",
       "      <th>Borough</th>\n",
       "      <th>Road Classification</th>\n",
       "      <th>Speed</th>\n",
       "      <th>Link Length (m)</th>\n",
       "      <th>VehicleType</th>\n",
       "      <th>AADT</th>\n",
       "      <th>VKM</th>\n",
       "      <th>Emission Value</th>\n",
       "    </tr>\n",
       "  </thead>\n",
       "  <tbody>\n",
       "    <tr>\n",
       "      <th>0</th>\n",
       "      <td>osgb4000000030400377</td>\n",
       "      <td>Non-GLA</td>\n",
       "      <td>Non-GLA</td>\n",
       "      <td>A Road</td>\n",
       "      <td>44.0</td>\n",
       "      <td>22</td>\n",
       "      <td>Car</td>\n",
       "      <td>5898.0</td>\n",
       "      <td>47357.0</td>\n",
       "      <td>6.356939</td>\n",
       "    </tr>\n",
       "    <tr>\n",
       "      <th>1</th>\n",
       "      <td>osgb4000000030151183</td>\n",
       "      <td>Non-GLA</td>\n",
       "      <td>Non-GLA</td>\n",
       "      <td>A Road</td>\n",
       "      <td>37.0</td>\n",
       "      <td>105</td>\n",
       "      <td>Car</td>\n",
       "      <td>6228.0</td>\n",
       "      <td>238209.0</td>\n",
       "      <td>34.176009</td>\n",
       "    </tr>\n",
       "    <tr>\n",
       "      <th>2</th>\n",
       "      <td>osgb4000000030090345</td>\n",
       "      <td>Non-GLA</td>\n",
       "      <td>Non-GLA</td>\n",
       "      <td>A Road</td>\n",
       "      <td>46.0</td>\n",
       "      <td>187</td>\n",
       "      <td>Car</td>\n",
       "      <td>3828.0</td>\n",
       "      <td>261606.0</td>\n",
       "      <td>34.818740</td>\n",
       "    </tr>\n",
       "    <tr>\n",
       "      <th>3</th>\n",
       "      <td>osgb4000000027948232</td>\n",
       "      <td>Non-GLA</td>\n",
       "      <td>Non-GLA</td>\n",
       "      <td>A Road</td>\n",
       "      <td>34.0</td>\n",
       "      <td>51</td>\n",
       "      <td>Car</td>\n",
       "      <td>7465.0</td>\n",
       "      <td>138959.0</td>\n",
       "      <td>20.812516</td>\n",
       "    </tr>\n",
       "    <tr>\n",
       "      <th>4</th>\n",
       "      <td>osgb4000000030078494</td>\n",
       "      <td>Non-GLA</td>\n",
       "      <td>Non-GLA</td>\n",
       "      <td>A Road</td>\n",
       "      <td>42.0</td>\n",
       "      <td>511</td>\n",
       "      <td>Car</td>\n",
       "      <td>13680.0</td>\n",
       "      <td>2551410.0</td>\n",
       "      <td>348.135065</td>\n",
       "    </tr>\n",
       "  </tbody>\n",
       "</table>\n",
       "</div>"
      ],
      "text/plain": [
       "                   TOID LAEI Zone  Borough Road Classification  Speed   \n",
       "0  osgb4000000030400377   Non-GLA  Non-GLA              A Road   44.0  \\\n",
       "1  osgb4000000030151183   Non-GLA  Non-GLA              A Road   37.0   \n",
       "2  osgb4000000030090345   Non-GLA  Non-GLA              A Road   46.0   \n",
       "3  osgb4000000027948232   Non-GLA  Non-GLA              A Road   34.0   \n",
       "4  osgb4000000030078494   Non-GLA  Non-GLA              A Road   42.0   \n",
       "\n",
       "   Link Length (m) VehicleType     AADT        VKM  Emission Value  \n",
       "0               22         Car   5898.0    47357.0        6.356939  \n",
       "1              105         Car   6228.0   238209.0       34.176009  \n",
       "2              187         Car   3828.0   261606.0       34.818740  \n",
       "3               51         Car   7465.0   138959.0       20.812516  \n",
       "4              511         Car  13680.0  2551410.0      348.135065  "
      ]
     },
     "execution_count": 16,
     "metadata": {},
     "output_type": "execute_result"
    }
   ],
   "source": [
    "main_df.head()"
   ]
  },
  {
   "cell_type": "markdown",
   "metadata": {},
   "source": [
    "### 2.4 LinearRegression"
   ]
  },
  {
   "cell_type": "code",
   "execution_count": 17,
   "metadata": {},
   "outputs": [],
   "source": [
    "#Data Proprocessing for the model input\n",
    "X = main_df.iloc[:, 4:-1]\n",
    "y = main_df.iloc[:, -1:]\n",
    "\n",
    "# Split the data into training and test sets\n",
    "X_train, X_test, y_train, y_test = train_test_split(X, y, test_size=0.2, random_state=42)\n",
    "\n",
    "numeric_feature_names = X_train.drop('VehicleType', axis=1).columns.tolist()\n",
    "\n",
    "# Initialize the OneHotEncoder to encode categorical variables\n",
    "encoder_one_hot = OneHotEncoder()\n",
    "X_train_e = encoder_one_hot.fit_transform(X_train['VehicleType'].values.reshape(-1, 1))\n",
    "X_test_e = encoder_one_hot.transform(X_test['VehicleType'].values.reshape(-1, 1))\n",
    "\n",
    "# Initialize the StandardScaler to standardize numerical features\n",
    "scaler = StandardScaler()\n",
    "X_train_num = scaler.fit_transform(X_train.drop('VehicleType',axis=1))\n",
    "X_test_num = scaler.transform(X_test.drop('VehicleType',axis=1))\n",
    "\n",
    "X_train = np.hstack((X_train_e.toarray(), X_train_num))\n",
    "X_test = np.hstack((X_test_e.toarray(), X_test_num))\n",
    "\n",
    "# Concatenate the one-hot encoded feature names with the numeric feature names\n",
    "one_hot_feature_names = encoder_one_hot.get_feature_names_out(['VehicleType'])\n",
    "all_feature_names = np.concatenate([one_hot_feature_names, numeric_feature_names])"
   ]
  },
  {
   "cell_type": "code",
   "execution_count": 66,
   "metadata": {},
   "outputs": [],
   "source": [
    "#Define function for modelling\n",
    "def ml_model(X_train=X_train, X_test=X_test, y_train=y_train, y_test=y_test, model_name='lr', alpha=0.1, cross_val=False, scoring='r2',feature_names=all_feature_names):\n",
    "    # Build the model\n",
    "    if model_name == 'l1':\n",
    "        lm = Lasso(alpha=alpha)\n",
    "    elif model_name == 'l2':\n",
    "        lm = Ridge(alpha=alpha)\n",
    "    elif model_name == 'rf':\n",
    "        lm = RandomForestRegressor(n_estimators=100, random_state=42)\n",
    "    else:\n",
    "        lm = LinearRegression(fit_intercept=True)\n",
    "\n",
    "    # Cross-validation\n",
    "    if cross_val:\n",
    "        scores = cross_val_score(lm, X_train, y_train, cv=5, scoring=scoring)\n",
    "        return {scoring: scores, f'Average of {scoring}': scores.mean()}\n",
    "\n",
    "    # Fit the model and predict\n",
    "    lm.fit(X_train, y_train)\n",
    "    y_pred = lm.predict(X_test)\n",
    "  \n",
    "    # Flatten y_test and y_pred to avoid shape mismatch errors\n",
    "    y_test_flat = y_test.values.ravel()  # Flatten y_test (in case it's a DataFrame)\n",
    "    y_pred_flat = y_pred.ravel()  # Flatten y_pred (ensure it's a 1D array)\n",
    "\n",
    "    # Metrics\n",
    "    mae = mean_absolute_error(y_test_flat, y_pred_flat)\n",
    "    mse = mean_squared_error(y_test_flat, y_pred_flat)\n",
    "    r2 = r2_score(y_test_flat, y_pred_flat)\n",
    "\n",
    "\n",
    "    # Regression Line Plot\n",
    "    plt.figure(figsize=(10, 6))\n",
    "    plt.scatter(y_test_flat, y_pred_flat, color=\"blue\", label='Data Points')\n",
    "    m, b = np.polyfit(y_test_flat, y_pred_flat, 1)  # 1D arrays for y_test and y_pred\n",
    "    plt.plot(y_test_flat, m * y_test_flat + b, color=\"red\", label=\"Best Fit Line\", linewidth=2)\n",
    "    plt.xlabel('Actual Values')\n",
    "    plt.ylabel('Predicted Values')\n",
    "    plt.title(f'Regression Line Plot {model_name}')\n",
    "    plt.legend()\n",
    "    plt.show()\n",
    "\n",
    "    # Plot R^2\n",
    "    if model_name not in ('rf'):\n",
    "        explained_variance = r2\n",
    "        unexplained_variance = 1 - r2\n",
    "        plt.figure(figsize=(6, 6))\n",
    "        plt.bar(['Explained Variance', 'Unexplained Variance'], [explained_variance, unexplained_variance], color=['green', 'red'])\n",
    "        plt.title('Explained vs Unexplained Variance (R^2)')\n",
    "        plt.ylabel('Variance Proportion')\n",
    "        plt.show()\n",
    "    else:\n",
    "        return {'MAE': mae, 'MSE': mse, 'R^2': r2}, lm.get_params()\n",
    "\n",
    "    # Plot feature importance for Lasso or Ridge models\n",
    "    if model_name in ('l1', 'l2'):\n",
    "        plt.figure(figsize=(8, 6))\n",
    "        plt.barh(feature_names.reshape(-1), lm.coef_.reshape(-1), color='blue')  # Horizontal bar chart\n",
    "        plt.xlabel('Coefficient Value')\n",
    "        plt.title(f'Feature Importance after {model_name.upper()}')\n",
    "        plt.show()\n",
    "    return {'MAE': mae, 'MSE': mse, 'R^2': r2}\n",
    "\n"
   ]
  },
  {
   "cell_type": "code",
   "execution_count": 19,
   "metadata": {},
   "outputs": [
    {
     "data": {
      "image/png": "[encoded data removed]",
      "text/plain": [
       "<Figure size 720x432 with 1 Axes>"
      ]
     },
     "metadata": {
      "needs_background": "light"
     },
     "output_type": "display_data"
    },
    {
     "data": {
      "image/png": "[encoded data removed]",
      "text/plain": [
       "<Figure size 432x432 with 1 Axes>"
      ]
     },
     "metadata": {
      "needs_background": "light"
     },
     "output_type": "display_data"
    }
   ],
   "source": [
    "#Running LinearRegression\n",
    "basic = ml_model()\n"
   ]
  },
  {
   "cell_type": "code",
   "execution_count": 20,
   "metadata": {},
   "outputs": [
    {
     "data": {
      "image/png": "[encoded data removed]",
      "text/plain": [
       "<Figure size 720x432 with 1 Axes>"
      ]
     },
     "metadata": {
      "needs_background": "light"
     },
     "output_type": "display_data"
    },
    {
     "data": {
      "image/png": "[encoded data removed]",
      "text/plain": [
       "<Figure size 432x432 with 1 Axes>"
      ]
     },
     "metadata": {
      "needs_background": "light"
     },
     "output_type": "display_data"
    },
    {
     "data": {
      "image/png": "[encoded data removed]",
      "text/plain": [
       "<Figure size 576x432 with 1 Axes>"
      ]
     },
     "metadata": {
      "needs_background": "light"
     },
     "output_type": "display_data"
    }
   ],
   "source": [
    "#Add regularisation (Lasso)\n",
    "reg_l1 = ml_model(model_name='l1')"
   ]
  },
  {
   "cell_type": "code",
   "execution_count": 21,
   "metadata": {},
   "outputs": [
    {
     "data": {
      "image/png": "[encoded data removed]",
      "text/plain": [
       "<Figure size 720x432 with 1 Axes>"
      ]
     },
     "metadata": {
      "needs_background": "light"
     },
     "output_type": "display_data"
    },
    {
     "data": {
      "image/png": "[encoded data removed]",
      "text/plain": [
       "<Figure size 432x432 with 1 Axes>"
      ]
     },
     "metadata": {
      "needs_background": "light"
     },
     "output_type": "display_data"
    },
    {
     "data": {
      "image/png": "[encoded data removed]",
      "text/plain": [
       "<Figure size 576x432 with 1 Axes>"
      ]
     },
     "metadata": {
      "needs_background": "light"
     },
     "output_type": "display_data"
    }
   ],
   "source": [
    "#Add regularisation (Ridge)\n",
    "reg_l2 = ml_model(model_name='l2')\n"
   ]
  },
  {
   "cell_type": "code",
   "execution_count": 24,
   "metadata": {},
   "outputs": [
    {
     "data": {
      "text/html": [
       "<div>\n",
       "<style scoped>\n",
       "    .dataframe tbody tr th:only-of-type {\n",
       "        vertical-align: middle;\n",
       "    }\n",
       "\n",
       "    .dataframe tbody tr th {\n",
       "        vertical-align: top;\n",
       "    }\n",
       "\n",
       "    .dataframe thead th {\n",
       "        text-align: right;\n",
       "    }\n",
       "</style>\n",
       "<table border=\"1\" class=\"dataframe\">\n",
       "  <thead>\n",
       "    <tr style=\"text-align: right;\">\n",
       "      <th></th>\n",
       "      <th>MAE</th>\n",
       "      <th>MSE</th>\n",
       "      <th>R^2</th>\n",
       "    </tr>\n",
       "  </thead>\n",
       "  <tbody>\n",
       "    <tr>\n",
       "      <th>LR</th>\n",
       "      <td>5.530014</td>\n",
       "      <td>149.341852</td>\n",
       "      <td>0.913057</td>\n",
       "    </tr>\n",
       "    <tr>\n",
       "      <th>Lasso</th>\n",
       "      <td>5.446101</td>\n",
       "      <td>149.563762</td>\n",
       "      <td>0.912927</td>\n",
       "    </tr>\n",
       "    <tr>\n",
       "      <th>Ridge</th>\n",
       "      <td>5.530887</td>\n",
       "      <td>149.342480</td>\n",
       "      <td>0.913056</td>\n",
       "    </tr>\n",
       "  </tbody>\n",
       "</table>\n",
       "</div>"
      ],
      "text/plain": [
       "            MAE         MSE       R^2\n",
       "LR     5.530014  149.341852  0.913057\n",
       "Lasso  5.446101  149.563762  0.912927\n",
       "Ridge  5.530887  149.342480  0.913056"
      ]
     },
     "execution_count": 24,
     "metadata": {},
     "output_type": "execute_result"
    }
   ],
   "source": [
    "Summary = pd.DataFrame([basic,reg_l1,reg_l2],index=['LR','Lasso','Ridge'])\n",
    "Summary"
   ]
  },
  {
   "cell_type": "markdown",
   "metadata": {},
   "source": [
    "#### 2.4.2 CrossValidation"
   ]
  },
  {
   "cell_type": "code",
   "execution_count": 89,
   "metadata": {},
   "outputs": [
    {
     "data": {
      "text/html": [
       "<div>\n",
       "<style scoped>\n",
       "    .dataframe tbody tr th:only-of-type {\n",
       "        vertical-align: middle;\n",
       "    }\n",
       "\n",
       "    .dataframe tbody tr th {\n",
       "        vertical-align: top;\n",
       "    }\n",
       "\n",
       "    .dataframe thead th {\n",
       "        text-align: right;\n",
       "    }\n",
       "</style>\n",
       "<table border=\"1\" class=\"dataframe\">\n",
       "  <thead>\n",
       "    <tr style=\"text-align: right;\">\n",
       "      <th></th>\n",
       "      <th>0</th>\n",
       "      <th>1</th>\n",
       "      <th>2</th>\n",
       "      <th>3</th>\n",
       "      <th>4</th>\n",
       "      <th>Average</th>\n",
       "    </tr>\n",
       "  </thead>\n",
       "  <tbody>\n",
       "    <tr>\n",
       "      <th>LR</th>\n",
       "      <td>5.558314</td>\n",
       "      <td>5.665508</td>\n",
       "      <td>5.577061</td>\n",
       "      <td>5.546225</td>\n",
       "      <td>5.738475</td>\n",
       "      <td>5.617116</td>\n",
       "    </tr>\n",
       "    <tr>\n",
       "      <th>Lasso</th>\n",
       "      <td>5.429901</td>\n",
       "      <td>5.531180</td>\n",
       "      <td>5.431218</td>\n",
       "      <td>5.416342</td>\n",
       "      <td>5.600445</td>\n",
       "      <td>5.481817</td>\n",
       "    </tr>\n",
       "    <tr>\n",
       "      <th>Ridge</th>\n",
       "      <td>5.562883</td>\n",
       "      <td>5.666353</td>\n",
       "      <td>5.577220</td>\n",
       "      <td>5.546192</td>\n",
       "      <td>5.738479</td>\n",
       "      <td>5.618225</td>\n",
       "    </tr>\n",
       "  </tbody>\n",
       "</table>\n",
       "</div>"
      ],
      "text/plain": [
       "              0         1         2         3         4   Average\n",
       "LR     5.558314  5.665508  5.577061  5.546225  5.738475  5.617116\n",
       "Lasso  5.429901  5.531180  5.431218  5.416342  5.600445  5.481817\n",
       "Ridge  5.562883  5.666353  5.577220  5.546192  5.738479  5.618225"
      ]
     },
     "execution_count": 89,
     "metadata": {},
     "output_type": "execute_result"
    }
   ],
   "source": [
    "#Use cross validation on MAE to eliminate variance\n",
    "cv_basic = ml_model(scoring='neg_mean_absolute_error',cross_val=True)\n",
    "cv_l1 = ml_model(model_name='l1',scoring='neg_mean_absolute_error',alpha=0.2,cross_val=True)\n",
    "cv_l2 = ml_model(model_name='l2',scoring='neg_mean_absolute_error',alpha=0.2,cross_val=True)\n",
    "Summary_cv = pd.DataFrame([-cv_basic['neg_mean_absolute_error'],-cv_l1['neg_mean_absolute_error'],-cv_l2['neg_mean_absolute_error']],index=['LR','Lasso','Ridge'])\n",
    "Summary_cv['Average'] = Summary_cv.mean(axis=1)\n",
    "Summary_cv"
   ]
  },
  {
   "cell_type": "code",
   "execution_count": 88,
   "metadata": {},
   "outputs": [
    {
     "data": {
      "text/html": [
       "<div>\n",
       "<style scoped>\n",
       "    .dataframe tbody tr th:only-of-type {\n",
       "        vertical-align: middle;\n",
       "    }\n",
       "\n",
       "    .dataframe tbody tr th {\n",
       "        vertical-align: top;\n",
       "    }\n",
       "\n",
       "    .dataframe thead th {\n",
       "        text-align: right;\n",
       "    }\n",
       "</style>\n",
       "<table border=\"1\" class=\"dataframe\">\n",
       "  <thead>\n",
       "    <tr style=\"text-align: right;\">\n",
       "      <th></th>\n",
       "      <th>0</th>\n",
       "      <th>1</th>\n",
       "      <th>2</th>\n",
       "      <th>3</th>\n",
       "      <th>4</th>\n",
       "      <th>Average</th>\n",
       "    </tr>\n",
       "  </thead>\n",
       "  <tbody>\n",
       "    <tr>\n",
       "      <th>LR</th>\n",
       "      <td>0.899106</td>\n",
       "      <td>0.878152</td>\n",
       "      <td>0.915583</td>\n",
       "      <td>0.903480</td>\n",
       "      <td>0.890141</td>\n",
       "      <td>0.897292</td>\n",
       "    </tr>\n",
       "    <tr>\n",
       "      <th>Lasso</th>\n",
       "      <td>0.898291</td>\n",
       "      <td>0.877285</td>\n",
       "      <td>0.914934</td>\n",
       "      <td>0.902528</td>\n",
       "      <td>0.889123</td>\n",
       "      <td>0.896432</td>\n",
       "    </tr>\n",
       "    <tr>\n",
       "      <th>Ridge</th>\n",
       "      <td>0.899111</td>\n",
       "      <td>0.878152</td>\n",
       "      <td>0.915583</td>\n",
       "      <td>0.903480</td>\n",
       "      <td>0.890140</td>\n",
       "      <td>0.897293</td>\n",
       "    </tr>\n",
       "  </tbody>\n",
       "</table>\n",
       "</div>"
      ],
      "text/plain": [
       "              0         1         2         3         4   Average\n",
       "LR     0.899106  0.878152  0.915583  0.903480  0.890141  0.897292\n",
       "Lasso  0.898291  0.877285  0.914934  0.902528  0.889123  0.896432\n",
       "Ridge  0.899111  0.878152  0.915583  0.903480  0.890140  0.897293"
      ]
     },
     "execution_count": 88,
     "metadata": {},
     "output_type": "execute_result"
    }
   ],
   "source": [
    "#Use cross validation on R^2 to eliminate variance\n",
    "cv_basic = ml_model(cross_val=True)\n",
    "cv_l1 = ml_model(model_name='l1',alpha=0.2,cross_val=True)\n",
    "cv_l2 = ml_model(model_name='l2',alpha=0.2,cross_val=True)\n",
    "Summary_cv_r2 = pd.DataFrame([cv_basic['r2'],cv_l1['r2'],cv_l2['r2']],index=['LR','Lasso','Ridge'])\n",
    "Summary_cv_r2['Average'] = Summary_cv.mean(axis=1)\n",
    "Summary_cv_r2"
   ]
  },
  {
   "cell_type": "markdown",
   "metadata": {},
   "source": [
    "### 2.5 RandomForest"
   ]
  },
  {
   "cell_type": "code",
   "execution_count": 67,
   "metadata": {},
   "outputs": [
    {
     "data": {
      "image/png": "[encoded data removed]",
      "text/plain": [
       "<Figure size 720x432 with 1 Axes>"
      ]
     },
     "metadata": {
      "needs_background": "light"
     },
     "output_type": "display_data"
    }
   ],
   "source": [
    "# Running Random Forest\n",
    "rf, rf_param = ml_model(model_name='rf')"
   ]
  },
  {
   "cell_type": "code",
   "execution_count": 41,
   "metadata": {},
   "outputs": [
    {
     "data": {
      "text/html": [
       "<div>\n",
       "<style scoped>\n",
       "    .dataframe tbody tr th:only-of-type {\n",
       "        vertical-align: middle;\n",
       "    }\n",
       "\n",
       "    .dataframe tbody tr th {\n",
       "        vertical-align: top;\n",
       "    }\n",
       "\n",
       "    .dataframe thead th {\n",
       "        text-align: right;\n",
       "    }\n",
       "</style>\n",
       "<table border=\"1\" class=\"dataframe\">\n",
       "  <thead>\n",
       "    <tr style=\"text-align: right;\">\n",
       "      <th></th>\n",
       "      <th>MAE</th>\n",
       "      <th>MSE</th>\n",
       "      <th>R^2</th>\n",
       "    </tr>\n",
       "  </thead>\n",
       "  <tbody>\n",
       "    <tr>\n",
       "      <th>RandomForest</th>\n",
       "      <td>0.555249</td>\n",
       "      <td>22.169875</td>\n",
       "      <td>0.987093</td>\n",
       "    </tr>\n",
       "  </tbody>\n",
       "</table>\n",
       "</div>"
      ],
      "text/plain": [
       "                   MAE        MSE       R^2\n",
       "RandomForest  0.555249  22.169875  0.987093"
      ]
     },
     "execution_count": 41,
     "metadata": {},
     "output_type": "execute_result"
    }
   ],
   "source": [
    "basic_rf = {'MAE': rf['MAE'], 'MSE': rf['MSE'], 'R^2': rf['R^2'] }\n",
    "basic_rf"
   ]
  },
  {
   "cell_type": "markdown",
   "metadata": {},
   "source": [
    "### 2.5.1 Bayesian Optimization"
   ]
  },
  {
   "cell_type": "code",
   "execution_count": 38,
   "metadata": {},
   "outputs": [
    {
     "name": "stderr",
     "output_type": "stream",
     "text": [
      "[I 2024-10-05 09:16:46,723] A new study created in memory with name: no-name-efb72b80-f0ef-4afd-b5e9-5c7fb9fdac74\n",
      "[I 2024-10-05 09:18:28,993] Trial 0 finished with value: 3.589683383537667 and parameters: {'n_estimators': 190, 'max_depth': 7, 'min_samples_split': 5, 'min_samples_leaf': 2, 'max_features': 'log2'}. Best is trial 0 with value: 3.589683383537667.\n",
      "[I 2024-10-05 09:19:17,215] Trial 1 finished with value: 8.568943198101568 and parameters: {'n_estimators': 193, 'max_depth': 3, 'min_samples_split': 7, 'min_samples_leaf': 2, 'max_features': 'sqrt'}. Best is trial 0 with value: 3.589683383537667.\n",
      "[I 2024-10-05 09:21:45,452] Trial 2 finished with value: 0.9552391553907145 and parameters: {'n_estimators': 144, 'max_depth': 19, 'min_samples_split': 10, 'min_samples_leaf': 4, 'max_features': 'log2'}. Best is trial 2 with value: 0.9552391553907145.\n",
      "[I 2024-10-05 09:24:28,188] Trial 3 finished with value: 0.8604198522344835 and parameters: {'n_estimators': 145, 'max_depth': 19, 'min_samples_split': 5, 'min_samples_leaf': 2, 'max_features': 'sqrt'}. Best is trial 3 with value: 0.8604198522344835.\n",
      "[I 2024-10-05 09:27:11,357] Trial 4 finished with value: 3.4936524610425237 and parameters: {'n_estimators': 140, 'max_depth': 6, 'min_samples_split': 8, 'min_samples_leaf': 3, 'max_features': 'auto'}. Best is trial 3 with value: 0.8604198522344835.\n",
      "[I 2024-10-05 09:27:42,420] Trial 5 finished with value: 8.509403216635903 and parameters: {'n_estimators': 133, 'max_depth': 3, 'min_samples_split': 10, 'min_samples_leaf': 4, 'max_features': 'log2'}. Best is trial 3 with value: 0.8604198522344835.\n",
      "[I 2024-10-05 09:31:32,324] Trial 6 finished with value: 2.6872202822540734 and parameters: {'n_estimators': 175, 'max_depth': 7, 'min_samples_split': 4, 'min_samples_leaf': 4, 'max_features': 'auto'}. Best is trial 3 with value: 0.8604198522344835.\n",
      "[I 2024-10-05 09:32:37,081] Trial 7 finished with value: 4.451813770672608 and parameters: {'n_estimators': 150, 'max_depth': 6, 'min_samples_split': 2, 'min_samples_leaf': 4, 'max_features': 'sqrt'}. Best is trial 3 with value: 0.8604198522344835.\n",
      "[I 2024-10-05 09:37:20,594] Trial 8 finished with value: 2.1654356678724667 and parameters: {'n_estimators': 194, 'max_depth': 8, 'min_samples_split': 10, 'min_samples_leaf': 2, 'max_features': 'auto'}. Best is trial 3 with value: 0.8604198522344835.\n",
      "[I 2024-10-05 09:38:42,500] Trial 9 finished with value: 4.431051974625313 and parameters: {'n_estimators': 192, 'max_depth': 6, 'min_samples_split': 3, 'min_samples_leaf': 1, 'max_features': 'log2'}. Best is trial 3 with value: 0.8604198522344835.\n"
     ]
    },
    {
     "name": "stdout",
     "output_type": "stream",
     "text": [
      "{'n_estimators': 145, 'max_depth': 19, 'min_samples_split': 5, 'min_samples_leaf': 2, 'max_features': 'sqrt'}\n"
     ]
    }
   ],
   "source": [
    "# Objective function to optimize with Optuna\n",
    "def objective(trial):\n",
    "    n_estimators = trial.suggest_int('n_estimators', 100, 200)\n",
    "    max_depth = trial.suggest_int('max_depth', 1, 20)\n",
    "    min_samples_split = trial.suggest_int('min_samples_split', 2, 10)\n",
    "    min_samples_leaf = trial.suggest_int('min_samples_leaf', 1, 4)\n",
    "    max_features = trial.suggest_categorical('max_features', ['auto', 'sqrt', 'log2'])\n",
    "\n",
    "    rf = RandomForestRegressor(n_estimators=n_estimators, max_depth=max_depth, min_samples_split=min_samples_split, min_samples_leaf=min_samples_leaf, max_features=max_features, random_state=42)\n",
    "    \n",
    "    score = cross_val_score(rf, X_train, y_train, cv=5, scoring='neg_mean_absolute_error').mean()\n",
    "    return -score\n",
    "\n",
    "# Create a study and optimize the hyperparameters\n",
    "study = optuna.create_study(direction='minimize')\n",
    "study.optimize(objective, n_trials=10)\n",
    "\n",
    "# Best hyperparameters found by Optuna\n",
    "print(study.best_params)"
   ]
  },
  {
   "cell_type": "code",
   "execution_count": 62,
   "metadata": {},
   "outputs": [
    {
     "data": {
      "image/png": "[encoded data removed]",
      "text/plain": [
       "<Figure size 720x432 with 1 Axes>"
      ]
     },
     "metadata": {
      "needs_background": "light"
     },
     "output_type": "display_data"
    },
    {
     "data": {
      "text/plain": [
       "{'MAE': 0.7917848032030124,\n",
       " 'MSE': 40.97114007268818,\n",
       " 'R^2': 0.9761475217022011}"
      ]
     },
     "execution_count": 62,
     "metadata": {},
     "output_type": "execute_result"
    }
   ],
   "source": [
    "# Build a Random Forest with best parameters from Bayesian Optimization\n",
    "best_params = study.best_params\n",
    "best_rf = RandomForestRegressor(**best_params, random_state=42)\n",
    "best_rf.fit(X_train, y_train)\n",
    "y_pred = best_rf.predict(X_test)\n",
    "mse = mean_squared_error(y_test, y_pred)\n",
    "mae = mean_absolute_error(y_test, y_pred)\n",
    "r2 = r2_score(y_test, y_pred)\n",
    "rf_bo = {'MAE':mae,'MSE':mse,'R^2':r2}\n",
    "\n",
    "def reg_line_plot(y_test=y_test,y_pred=y_pred):\n",
    "    y_test_flat = y_test.values.ravel()  # Flatten y_test (in case it's a DataFrame)\n",
    "    y_pred_flat = y_pred.ravel()  # Flatten y_pred (ensure it's a 1D array)\n",
    "    plt.figure(figsize=(10, 6))\n",
    "    plt.scatter(y_test_flat, y_pred_flat, color=\"blue\", label='Data Points')\n",
    "    m, b = np.polyfit(y_test_flat, y_pred_flat, 1)  # 1D arrays for y_test and y_pred\n",
    "    plt.plot(y_test_flat, m * y_test_flat + b, color=\"red\", label=\"Best Fit Line\", linewidth=2)\n",
    "    plt.xlabel('Actual Values')\n",
    "    plt.ylabel('Predicted Values')\n",
    "    plt.title(f'Regression Line Plot')\n",
    "    plt.legend()\n",
    "    plt.show()\n",
    "\n",
    "reg_line_plot()\n",
    "rf_bo"
   ]
  },
  {
   "cell_type": "code",
   "execution_count": 91,
   "metadata": {},
   "outputs": [
    {
     "data": {
      "text/html": [
       "<div>\n",
       "<style scoped>\n",
       "    .dataframe tbody tr th:only-of-type {\n",
       "        vertical-align: middle;\n",
       "    }\n",
       "\n",
       "    .dataframe tbody tr th {\n",
       "        vertical-align: top;\n",
       "    }\n",
       "\n",
       "    .dataframe thead th {\n",
       "        text-align: right;\n",
       "    }\n",
       "</style>\n",
       "<table border=\"1\" class=\"dataframe\">\n",
       "  <thead>\n",
       "    <tr style=\"text-align: right;\">\n",
       "      <th></th>\n",
       "      <th>MAE</th>\n",
       "      <th>MSE</th>\n",
       "      <th>R^2</th>\n",
       "    </tr>\n",
       "  </thead>\n",
       "  <tbody>\n",
       "    <tr>\n",
       "      <th>RandomForest</th>\n",
       "      <td>0.555249</td>\n",
       "      <td>22.169875</td>\n",
       "      <td>0.987093</td>\n",
       "    </tr>\n",
       "    <tr>\n",
       "      <th>RandomForest_BO</th>\n",
       "      <td>0.791785</td>\n",
       "      <td>40.971140</td>\n",
       "      <td>0.976148</td>\n",
       "    </tr>\n",
       "  </tbody>\n",
       "</table>\n",
       "</div>"
      ],
      "text/plain": [
       "                      MAE        MSE       R^2\n",
       "RandomForest     0.555249  22.169875  0.987093\n",
       "RandomForest_BO  0.791785  40.971140  0.976148"
      ]
     },
     "execution_count": 91,
     "metadata": {},
     "output_type": "execute_result"
    }
   ],
   "source": [
    "Summary_rf = pd.DataFrame([basic_rf,rf_bo],index=['RandomForest','RandomForest_BO'])\n",
    "Summary_rf"
   ]
  },
  {
   "cell_type": "code",
   "execution_count": 68,
   "metadata": {},
   "outputs": [
    {
     "data": {
      "text/html": [
       "<div>\n",
       "<style scoped>\n",
       "    .dataframe tbody tr th:only-of-type {\n",
       "        vertical-align: middle;\n",
       "    }\n",
       "\n",
       "    .dataframe tbody tr th {\n",
       "        vertical-align: top;\n",
       "    }\n",
       "\n",
       "    .dataframe thead th {\n",
       "        text-align: right;\n",
       "    }\n",
       "</style>\n",
       "<table border=\"1\" class=\"dataframe\">\n",
       "  <thead>\n",
       "    <tr style=\"text-align: right;\">\n",
       "      <th></th>\n",
       "      <th>bootstrap</th>\n",
       "      <th>ccp_alpha</th>\n",
       "      <th>criterion</th>\n",
       "      <th>max_depth</th>\n",
       "      <th>max_features</th>\n",
       "      <th>max_leaf_nodes</th>\n",
       "      <th>max_samples</th>\n",
       "      <th>min_impurity_decrease</th>\n",
       "      <th>min_samples_leaf</th>\n",
       "      <th>min_samples_split</th>\n",
       "      <th>min_weight_fraction_leaf</th>\n",
       "      <th>n_estimators</th>\n",
       "      <th>n_jobs</th>\n",
       "      <th>oob_score</th>\n",
       "      <th>random_state</th>\n",
       "      <th>verbose</th>\n",
       "      <th>warm_start</th>\n",
       "    </tr>\n",
       "  </thead>\n",
       "  <tbody>\n",
       "    <tr>\n",
       "      <th>RandomForest</th>\n",
       "      <td>True</td>\n",
       "      <td>0.0</td>\n",
       "      <td>squared_error</td>\n",
       "      <td>NaN</td>\n",
       "      <td>auto</td>\n",
       "      <td>None</td>\n",
       "      <td>None</td>\n",
       "      <td>0.0</td>\n",
       "      <td>1</td>\n",
       "      <td>2</td>\n",
       "      <td>0.0</td>\n",
       "      <td>100</td>\n",
       "      <td>None</td>\n",
       "      <td>False</td>\n",
       "      <td>42</td>\n",
       "      <td>0</td>\n",
       "      <td>False</td>\n",
       "    </tr>\n",
       "    <tr>\n",
       "      <th>RandomForest_BO</th>\n",
       "      <td>True</td>\n",
       "      <td>0.0</td>\n",
       "      <td>squared_error</td>\n",
       "      <td>19.0</td>\n",
       "      <td>sqrt</td>\n",
       "      <td>None</td>\n",
       "      <td>None</td>\n",
       "      <td>0.0</td>\n",
       "      <td>2</td>\n",
       "      <td>5</td>\n",
       "      <td>0.0</td>\n",
       "      <td>145</td>\n",
       "      <td>None</td>\n",
       "      <td>False</td>\n",
       "      <td>42</td>\n",
       "      <td>0</td>\n",
       "      <td>False</td>\n",
       "    </tr>\n",
       "  </tbody>\n",
       "</table>\n",
       "</div>"
      ],
      "text/plain": [
       "                 bootstrap  ccp_alpha      criterion  max_depth max_features   \n",
       "RandomForest          True        0.0  squared_error        NaN         auto  \\\n",
       "RandomForest_BO       True        0.0  squared_error       19.0         sqrt   \n",
       "\n",
       "                max_leaf_nodes max_samples  min_impurity_decrease   \n",
       "RandomForest              None        None                    0.0  \\\n",
       "RandomForest_BO           None        None                    0.0   \n",
       "\n",
       "                 min_samples_leaf  min_samples_split   \n",
       "RandomForest                    1                  2  \\\n",
       "RandomForest_BO                 2                  5   \n",
       "\n",
       "                 min_weight_fraction_leaf  n_estimators n_jobs  oob_score   \n",
       "RandomForest                          0.0           100   None      False  \\\n",
       "RandomForest_BO                       0.0           145   None      False   \n",
       "\n",
       "                 random_state  verbose  warm_start  \n",
       "RandomForest               42        0       False  \n",
       "RandomForest_BO            42        0       False  "
      ]
     },
     "execution_count": 68,
     "metadata": {},
     "output_type": "execute_result"
    }
   ],
   "source": [
    "# Paramter Comparison\n",
    "rf = RandomForestRegressor(n_estimators=100, random_state=42)\n",
    "pd.DataFrame([rf_param,best_rf.get_params()],index=['RandomForest','RandomForest_BO'])"
   ]
  },
  {
   "cell_type": "markdown",
   "metadata": {},
   "source": [
    "#### 2.5.2 CrossValidation"
   ]
  },
  {
   "cell_type": "code",
   "execution_count": 44,
   "metadata": {},
   "outputs": [],
   "source": [
    "# Use cross validation on mae to eliminate variance\n",
    "rf_cv = ml_model(model_name='rf',cross_val=True,scoring='neg_mean_absolute_error')\n",
    "rf_bo_cv = cross_val_score(best_rf, X_train, y_train, cv=5, scoring='neg_mean_absolute_error')"
   ]
  },
  {
   "cell_type": "code",
   "execution_count": 94,
   "metadata": {},
   "outputs": [
    {
     "data": {
      "text/html": [
       "<div>\n",
       "<style scoped>\n",
       "    .dataframe tbody tr th:only-of-type {\n",
       "        vertical-align: middle;\n",
       "    }\n",
       "\n",
       "    .dataframe tbody tr th {\n",
       "        vertical-align: top;\n",
       "    }\n",
       "\n",
       "    .dataframe thead th {\n",
       "        text-align: right;\n",
       "    }\n",
       "</style>\n",
       "<table border=\"1\" class=\"dataframe\">\n",
       "  <thead>\n",
       "    <tr style=\"text-align: right;\">\n",
       "      <th></th>\n",
       "      <th>0</th>\n",
       "      <th>1</th>\n",
       "      <th>2</th>\n",
       "      <th>3</th>\n",
       "      <th>4</th>\n",
       "      <th>Average</th>\n",
       "    </tr>\n",
       "  </thead>\n",
       "  <tbody>\n",
       "    <tr>\n",
       "      <th>RandomForest</th>\n",
       "      <td>0.561428</td>\n",
       "      <td>0.617249</td>\n",
       "      <td>0.554859</td>\n",
       "      <td>0.578402</td>\n",
       "      <td>0.612139</td>\n",
       "      <td>0.584815</td>\n",
       "    </tr>\n",
       "    <tr>\n",
       "      <th>RandomForest_BO</th>\n",
       "      <td>0.846818</td>\n",
       "      <td>0.880642</td>\n",
       "      <td>0.847602</td>\n",
       "      <td>0.828125</td>\n",
       "      <td>0.898912</td>\n",
       "      <td>0.860420</td>\n",
       "    </tr>\n",
       "  </tbody>\n",
       "</table>\n",
       "</div>"
      ],
      "text/plain": [
       "                        0         1         2         3         4   Average\n",
       "RandomForest     0.561428  0.617249  0.554859  0.578402  0.612139  0.584815\n",
       "RandomForest_BO  0.846818  0.880642  0.847602  0.828125  0.898912  0.860420"
      ]
     },
     "execution_count": 94,
     "metadata": {},
     "output_type": "execute_result"
    }
   ],
   "source": [
    "summary_rf_cv = pd.DataFrame([-rf_cv['neg_mean_absolute_error'],-rf_bo_cv],index=['RandomForest','RandomForest_BO'])\n",
    "summary_rf_cv['Average'] = summary_rf_cv.mean(axis=1)\n",
    "summary_rf_cv"
   ]
  },
  {
   "cell_type": "markdown",
   "metadata": {},
   "source": [
    "### 2.6 Neural Network"
   ]
  },
  {
   "cell_type": "code",
   "execution_count": 73,
   "metadata": {},
   "outputs": [],
   "source": [
    "#Define function for modelling\n",
    "\n",
    "def nn_model(X_train=X_train, X_test=X_test, y_train=y_train, y_test=y_test):\n",
    "\n",
    "    model = Sequential([\n",
    "        Dense(64, input_dim=X_train.shape[1], activation='relu'),  # First hidden layer\n",
    "        Dropout(0.3),  # Dropout to prevent overfitting\n",
    "        Dense(32, activation='relu'),  # Second hidden layer\n",
    "        Dropout(0.3),\n",
    "        Dense(16, activation='relu'),  # Third hidden layer\n",
    "        Dense(1, activation='linear')  # Output layer for regression (CO2 emissions)\n",
    "    ])\n",
    "\n",
    "    model.compile(optimizer='adam',  # Adam optimizer is usually a good choice\n",
    "                loss='mean_squared_error',  # Loss function for regression\n",
    "                metrics=['mean_absolute_error'])  # MAE is a good metric for regression\n",
    "\n",
    "    early_stopping = EarlyStopping(monitor='val_loss', patience=10, restore_best_weights=True)\n",
    "    history = model.fit(X_train, y_train, epochs=100, batch_size=32, validation_split=0.2,callbacks=[early_stopping])\n",
    "\n",
    "    test_loss, test_mae = model.evaluate(X_test, y_test)\n",
    "    print(f\"Test Loss: {test_loss}, Test MAE: {test_mae}\")\n",
    "\n",
    "    return history, {'MAE':test_mae, 'MSE':test_loss}"
   ]
  },
  {
   "cell_type": "code",
   "execution_count": 81,
   "metadata": {},
   "outputs": [],
   "source": [
    "def plot_performance(history):\n",
    "    # Create subplots for loss\n",
    "    fig, axs = plt.subplots(figsize=(10, 10))\n",
    "\n",
    "    axs.plot(history.history['loss'], label='Training Loss')\n",
    "    axs.plot(history.history['val_loss'], label='Validation Loss')\n",
    "    axs.set_title('Model Loss')\n",
    "    axs.set_xlabel('Epochs')\n",
    "    axs.set_ylabel('Loss (MSE)')\n",
    "    axs.legend(loc='upper right')\n",
    "    axs.grid(True)\n",
    "    # Display the plot\n",
    "    plt.tight_layout()\n",
    "    plt.show()"
   ]
  },
  {
   "cell_type": "code",
   "execution_count": 75,
   "metadata": {},
   "outputs": [
    {
     "name": "stdout",
     "output_type": "stream",
     "text": [
      "Epoch 1/100\n",
      "5377/5377 [==============================] - 9s 2ms/step - loss: 278.1355 - mean_absolute_error: 5.8226 - val_loss: 121.7667 - val_mean_absolute_error: 3.2949\n",
      "Epoch 2/100\n",
      "5377/5377 [==============================] - 7s 1ms/step - loss: 156.4984 - mean_absolute_error: 4.2403 - val_loss: 85.9532 - val_mean_absolute_error: 2.5857\n",
      "Epoch 3/100\n",
      "5377/5377 [==============================] - 8s 1ms/step - loss: 140.6225 - mean_absolute_error: 3.9103 - val_loss: 82.1062 - val_mean_absolute_error: 2.7808\n",
      "Epoch 4/100\n",
      "5377/5377 [==============================] - 8s 1ms/step - loss: 128.8148 - mean_absolute_error: 3.7690 - val_loss: 65.9403 - val_mean_absolute_error: 2.6130\n",
      "Epoch 5/100\n",
      "5377/5377 [==============================] - 8s 1ms/step - loss: 119.8905 - mean_absolute_error: 3.6826 - val_loss: 59.4197 - val_mean_absolute_error: 2.6078\n",
      "Epoch 6/100\n",
      "5377/5377 [==============================] - 8s 2ms/step - loss: 111.4263 - mean_absolute_error: 3.5984 - val_loss: 78.6461 - val_mean_absolute_error: 3.2371\n",
      "Epoch 7/100\n",
      "5377/5377 [==============================] - 8s 1ms/step - loss: 106.5837 - mean_absolute_error: 3.5190 - val_loss: 58.2650 - val_mean_absolute_error: 3.1015\n",
      "Epoch 8/100\n",
      "5377/5377 [==============================] - 8s 2ms/step - loss: 97.4487 - mean_absolute_error: 3.4101 - val_loss: 51.7724 - val_mean_absolute_error: 2.9155\n",
      "Epoch 9/100\n",
      "5377/5377 [==============================] - 9s 2ms/step - loss: 109.2414 - mean_absolute_error: 3.4418 - val_loss: 89.8755 - val_mean_absolute_error: 3.1391\n",
      "Epoch 10/100\n",
      "5377/5377 [==============================] - 9s 2ms/step - loss: 107.0427 - mean_absolute_error: 3.3733 - val_loss: 74.4050 - val_mean_absolute_error: 3.5093\n",
      "Epoch 11/100\n",
      "5377/5377 [==============================] - 7s 1ms/step - loss: 101.0555 - mean_absolute_error: 3.3386 - val_loss: 68.4193 - val_mean_absolute_error: 3.4493\n",
      "Epoch 12/100\n",
      "5377/5377 [==============================] - 8s 2ms/step - loss: 97.8462 - mean_absolute_error: 3.3087 - val_loss: 87.0664 - val_mean_absolute_error: 4.2009\n",
      "Epoch 13/100\n",
      "5377/5377 [==============================] - 8s 1ms/step - loss: 94.8562 - mean_absolute_error: 3.2535 - val_loss: 75.7671 - val_mean_absolute_error: 4.1279\n",
      "Epoch 14/100\n",
      "5377/5377 [==============================] - 8s 1ms/step - loss: 95.1069 - mean_absolute_error: 3.2452 - val_loss: 74.1366 - val_mean_absolute_error: 4.3414\n",
      "Epoch 15/100\n",
      "5377/5377 [==============================] - 9s 2ms/step - loss: 107.8001 - mean_absolute_error: 3.2182 - val_loss: 68.8289 - val_mean_absolute_error: 4.6225\n",
      "Epoch 16/100\n",
      "5377/5377 [==============================] - 8s 2ms/step - loss: 99.3028 - mean_absolute_error: 3.1991 - val_loss: 143.5490 - val_mean_absolute_error: 5.4424\n",
      "Epoch 17/100\n",
      "5377/5377 [==============================] - 8s 1ms/step - loss: 84.2796 - mean_absolute_error: 3.1707 - val_loss: 126.2651 - val_mean_absolute_error: 5.6336\n",
      "Epoch 18/100\n",
      "5377/5377 [==============================] - 8s 1ms/step - loss: 90.3965 - mean_absolute_error: 3.1864 - val_loss: 136.1745 - val_mean_absolute_error: 5.8116\n",
      "1681/1681 [==============================] - 1s 843us/step - loss: 34.8230 - mean_absolute_error: 2.8510\n",
      "Test Loss: 34.82295608520508, Test MAE: 2.851022720336914\n"
     ]
    }
   ],
   "source": [
    "# Training\n",
    "history, mae_nn = nn_model()\n"
   ]
  },
  {
   "cell_type": "code",
   "execution_count": 84,
   "metadata": {},
   "outputs": [
    {
     "data": {
      "image/png": "[encoded data removed]",
      "text/plain": [
       "<Figure size 720x720 with 1 Axes>"
      ]
     },
     "metadata": {
      "needs_background": "light"
     },
     "output_type": "display_data"
    },
    {
     "name": "stdout",
     "output_type": "stream",
     "text": [
      "Early stopping occurred at epoch: 18\n",
      "Best epoch (where weights were restored): 8\n"
     ]
    },
    {
     "data": {
      "text/html": [
       "<div>\n",
       "<style scoped>\n",
       "    .dataframe tbody tr th:only-of-type {\n",
       "        vertical-align: middle;\n",
       "    }\n",
       "\n",
       "    .dataframe tbody tr th {\n",
       "        vertical-align: top;\n",
       "    }\n",
       "\n",
       "    .dataframe thead th {\n",
       "        text-align: right;\n",
       "    }\n",
       "</style>\n",
       "<table border=\"1\" class=\"dataframe\">\n",
       "  <thead>\n",
       "    <tr style=\"text-align: right;\">\n",
       "      <th></th>\n",
       "      <th>MAE</th>\n",
       "      <th>MSE</th>\n",
       "    </tr>\n",
       "  </thead>\n",
       "  <tbody>\n",
       "    <tr>\n",
       "      <th>NeuralNetwork</th>\n",
       "      <td>2.851023</td>\n",
       "      <td>34.822956</td>\n",
       "    </tr>\n",
       "  </tbody>\n",
       "</table>\n",
       "</div>"
      ],
      "text/plain": [
       "                    MAE        MSE\n",
       "NeuralNetwork  2.851023  34.822956"
      ]
     },
     "execution_count": 84,
     "metadata": {},
     "output_type": "execute_result"
    }
   ],
   "source": [
    "#Performance over epochs\n",
    "plot_performance(history)\n",
    "\n",
    "#Early Stopping and Restore best weights\n",
    "early_stopping_epoch = len(history.epoch) \n",
    "print(f\"Early stopping occurred at epoch: {early_stopping_epoch}\")\n",
    "val_loss_history = history.history['val_loss'] \n",
    "best_epoch = val_loss_history.index(min(val_loss_history)) + 1\n",
    "print(f\"Best epoch (where weights were restored): {best_epoch}\")\n",
    "\n",
    "nn_summary = pd.DataFrame(mae_nn,index=['NeuralNetwork'])\n",
    "nn_summary"
   ]
  },
  {
   "cell_type": "markdown",
   "metadata": {},
   "source": [
    "### 2.7 Modelling Summary"
   ]
  },
  {
   "cell_type": "code",
   "execution_count": 85,
   "metadata": {},
   "outputs": [
    {
     "data": {
      "text/html": [
       "<div>\n",
       "<style scoped>\n",
       "    .dataframe tbody tr th:only-of-type {\n",
       "        vertical-align: middle;\n",
       "    }\n",
       "\n",
       "    .dataframe tbody tr th {\n",
       "        vertical-align: top;\n",
       "    }\n",
       "\n",
       "    .dataframe thead th {\n",
       "        text-align: right;\n",
       "    }\n",
       "</style>\n",
       "<table border=\"1\" class=\"dataframe\">\n",
       "  <thead>\n",
       "    <tr style=\"text-align: right;\">\n",
       "      <th></th>\n",
       "      <th>MAE</th>\n",
       "      <th>MSE</th>\n",
       "      <th>R^2</th>\n",
       "    </tr>\n",
       "  </thead>\n",
       "  <tbody>\n",
       "    <tr>\n",
       "      <th>LR</th>\n",
       "      <td>5.530014</td>\n",
       "      <td>149.341852</td>\n",
       "      <td>0.913057</td>\n",
       "    </tr>\n",
       "    <tr>\n",
       "      <th>Lasso</th>\n",
       "      <td>5.446101</td>\n",
       "      <td>149.563762</td>\n",
       "      <td>0.912927</td>\n",
       "    </tr>\n",
       "    <tr>\n",
       "      <th>Ridge</th>\n",
       "      <td>5.530887</td>\n",
       "      <td>149.342480</td>\n",
       "      <td>0.913056</td>\n",
       "    </tr>\n",
       "    <tr>\n",
       "      <th>RandomForest</th>\n",
       "      <td>0.555249</td>\n",
       "      <td>22.169875</td>\n",
       "      <td>0.987093</td>\n",
       "    </tr>\n",
       "    <tr>\n",
       "      <th>RandomForest_BO</th>\n",
       "      <td>0.791785</td>\n",
       "      <td>40.971140</td>\n",
       "      <td>0.976148</td>\n",
       "    </tr>\n",
       "    <tr>\n",
       "      <th>NeuralNetwork</th>\n",
       "      <td>2.851023</td>\n",
       "      <td>34.822956</td>\n",
       "      <td>NaN</td>\n",
       "    </tr>\n",
       "  </tbody>\n",
       "</table>\n",
       "</div>"
      ],
      "text/plain": [
       "                      MAE         MSE       R^2\n",
       "LR               5.530014  149.341852  0.913057\n",
       "Lasso            5.446101  149.563762  0.912927\n",
       "Ridge            5.530887  149.342480  0.913056\n",
       "RandomForest     0.555249   22.169875  0.987093\n",
       "RandomForest_BO  0.791785   40.971140  0.976148\n",
       "NeuralNetwork    2.851023   34.822956       NaN"
      ]
     },
     "execution_count": 85,
     "metadata": {},
     "output_type": "execute_result"
    }
   ],
   "source": [
    "#All model metrics summary\n",
    "pd.concat([Summary,Summary_rf,nn_summary])"
   ]
  },
  {
   "cell_type": "code",
   "execution_count": 95,
   "metadata": {},
   "outputs": [
    {
     "data": {
      "text/html": [
       "<div>\n",
       "<style scoped>\n",
       "    .dataframe tbody tr th:only-of-type {\n",
       "        vertical-align: middle;\n",
       "    }\n",
       "\n",
       "    .dataframe tbody tr th {\n",
       "        vertical-align: top;\n",
       "    }\n",
       "\n",
       "    .dataframe thead th {\n",
       "        text-align: right;\n",
       "    }\n",
       "</style>\n",
       "<table border=\"1\" class=\"dataframe\">\n",
       "  <thead>\n",
       "    <tr style=\"text-align: right;\">\n",
       "      <th></th>\n",
       "      <th>0</th>\n",
       "      <th>1</th>\n",
       "      <th>2</th>\n",
       "      <th>3</th>\n",
       "      <th>4</th>\n",
       "      <th>Average</th>\n",
       "    </tr>\n",
       "  </thead>\n",
       "  <tbody>\n",
       "    <tr>\n",
       "      <th>LR</th>\n",
       "      <td>5.558314</td>\n",
       "      <td>5.665508</td>\n",
       "      <td>5.577061</td>\n",
       "      <td>5.546225</td>\n",
       "      <td>5.738475</td>\n",
       "      <td>5.617116</td>\n",
       "    </tr>\n",
       "    <tr>\n",
       "      <th>Lasso</th>\n",
       "      <td>5.429901</td>\n",
       "      <td>5.531180</td>\n",
       "      <td>5.431218</td>\n",
       "      <td>5.416342</td>\n",
       "      <td>5.600445</td>\n",
       "      <td>5.481817</td>\n",
       "    </tr>\n",
       "    <tr>\n",
       "      <th>Ridge</th>\n",
       "      <td>5.562883</td>\n",
       "      <td>5.666353</td>\n",
       "      <td>5.577220</td>\n",
       "      <td>5.546192</td>\n",
       "      <td>5.738479</td>\n",
       "      <td>5.618225</td>\n",
       "    </tr>\n",
       "    <tr>\n",
       "      <th>RandomForest</th>\n",
       "      <td>0.561428</td>\n",
       "      <td>0.617249</td>\n",
       "      <td>0.554859</td>\n",
       "      <td>0.578402</td>\n",
       "      <td>0.612139</td>\n",
       "      <td>0.584815</td>\n",
       "    </tr>\n",
       "    <tr>\n",
       "      <th>RandomForest_BO</th>\n",
       "      <td>0.846818</td>\n",
       "      <td>0.880642</td>\n",
       "      <td>0.847602</td>\n",
       "      <td>0.828125</td>\n",
       "      <td>0.898912</td>\n",
       "      <td>0.860420</td>\n",
       "    </tr>\n",
       "  </tbody>\n",
       "</table>\n",
       "</div>"
      ],
      "text/plain": [
       "                        0         1         2         3         4   Average\n",
       "LR               5.558314  5.665508  5.577061  5.546225  5.738475  5.617116\n",
       "Lasso            5.429901  5.531180  5.431218  5.416342  5.600445  5.481817\n",
       "Ridge            5.562883  5.666353  5.577220  5.546192  5.738479  5.618225\n",
       "RandomForest     0.561428  0.617249  0.554859  0.578402  0.612139  0.584815\n",
       "RandomForest_BO  0.846818  0.880642  0.847602  0.828125  0.898912  0.860420"
      ]
     },
     "execution_count": 95,
     "metadata": {},
     "output_type": "execute_result"
    }
   ],
   "source": [
    "#With Cross Validation to eliminate variance\n",
    "pd.concat([Summary_cv,summary_rf_cv])"
   ]
  },
  {
   "cell_type": "code",
   "execution_count": 92,
   "metadata": {},
   "outputs": [
    {
     "data": {
      "text/html": [
       "<div>\n",
       "<style scoped>\n",
       "    .dataframe tbody tr th:only-of-type {\n",
       "        vertical-align: middle;\n",
       "    }\n",
       "\n",
       "    .dataframe tbody tr th {\n",
       "        vertical-align: top;\n",
       "    }\n",
       "\n",
       "    .dataframe thead th {\n",
       "        text-align: right;\n",
       "    }\n",
       "</style>\n",
       "<table border=\"1\" class=\"dataframe\">\n",
       "  <thead>\n",
       "    <tr style=\"text-align: right;\">\n",
       "      <th></th>\n",
       "      <th>MAE</th>\n",
       "      <th>MSE</th>\n",
       "      <th>R^2</th>\n",
       "    </tr>\n",
       "  </thead>\n",
       "  <tbody>\n",
       "    <tr>\n",
       "      <th>LR</th>\n",
       "      <td>5.530014</td>\n",
       "      <td>149.341852</td>\n",
       "      <td>0.913057</td>\n",
       "    </tr>\n",
       "    <tr>\n",
       "      <th>Lasso</th>\n",
       "      <td>5.446101</td>\n",
       "      <td>149.563762</td>\n",
       "      <td>0.912927</td>\n",
       "    </tr>\n",
       "    <tr>\n",
       "      <th>Ridge</th>\n",
       "      <td>5.530887</td>\n",
       "      <td>149.342480</td>\n",
       "      <td>0.913056</td>\n",
       "    </tr>\n",
       "    <tr>\n",
       "      <th>RandomForest</th>\n",
       "      <td>0.555249</td>\n",
       "      <td>22.169875</td>\n",
       "      <td>0.987093</td>\n",
       "    </tr>\n",
       "    <tr>\n",
       "      <th>RandomForest_BO</th>\n",
       "      <td>0.791785</td>\n",
       "      <td>40.971140</td>\n",
       "      <td>0.976148</td>\n",
       "    </tr>\n",
       "    <tr>\n",
       "      <th>NeuralNetwork</th>\n",
       "      <td>2.851023</td>\n",
       "      <td>34.822956</td>\n",
       "      <td>NaN</td>\n",
       "    </tr>\n",
       "  </tbody>\n",
       "</table>\n",
       "</div>"
      ],
      "text/plain": [
       "                      MAE         MSE       R^2\n",
       "LR               5.530014  149.341852  0.913057\n",
       "Lasso            5.446101  149.563762  0.912927\n",
       "Ridge            5.530887  149.342480  0.913056\n",
       "RandomForest     0.555249   22.169875  0.987093\n",
       "RandomForest_BO  0.791785   40.971140  0.976148\n",
       "NeuralNetwork    2.851023   34.822956       NaN"
      ]
     },
     "execution_count": 92,
     "metadata": {},
     "output_type": "execute_result"
    }
   ],
   "source": [
    "#All model summary\n",
    "pd.concat([Summary,Summary_rf,nn_summary])"
   ]
  },
  {
   "cell_type": "code",
   "execution_count": null,
   "metadata": {},
   "outputs": [],
   "source": []
  }
 ],
 "metadata": {
  "kernelspec": {
   "display_name": "Python 3",
   "language": "python",
   "name": "python3"
  },
  "language_info": {
   "codemirror_mode": {
    "name": "ipython",
    "version": 3
   },
   "file_extension": ".py",
   "mimetype": "text/x-python",
   "name": "python",
   "nbconvert_exporter": "python",
   "pygments_lexer": "ipython3",
   "version": "3.10.11"
  }
 },
 "nbformat": 4,
 "nbformat_minor": 2
}
