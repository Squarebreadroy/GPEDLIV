{
 "cells": [
  {
   "cell_type": "code",
   "execution_count": 1,
   "metadata": {},
   "outputs": [
    {
     "name": "stderr",
     "output_type": "stream",
     "text": [
      "C:\\Users\\roy.fong\\AppData\\Roaming\\Python\\Python311\\site-packages\\pandas\\core\\arrays\\masked.py:60: UserWarning: Pandas requires version '1.3.6' or newer of 'bottleneck' (version '1.3.5' currently installed).\n",
      "  from pandas.core import (\n"
     ]
    }
   ],
   "source": [
    "#Library Import \n",
    "import numpy as np\n",
    "import pandas as pd\n",
    "import matplotlib.pyplot as plt\n",
    "from sklearn.model_selection import train_test_split\n",
    "from sklearn.linear_model import LinearRegression\n",
    "from sklearn.metrics import mean_squared_error, r2_score, mean_absolute_error\n",
    "from sklearn.preprocessing import OneHotEncoder, StandardScaler\n",
    "from sklearn.linear_model import Ridge, Lasso\n",
    "from sklearn.model_selection import cross_val_score\n",
    "from sklearn.ensemble import RandomForestRegressor\n",
    "import seaborn as sns\n",
    "\n"
   ]
  },
  {
   "cell_type": "markdown",
   "metadata": {},
   "source": [
    "# 2. Data Modeling (LinearRegression, RandomForest)\n",
    "### Prepared by: FONG, Chun Wai\n",
    "#### 2.1 Major Road Data"
   ]
  },
  {
   "cell_type": "code",
   "execution_count": 3,
   "metadata": {},
   "outputs": [],
   "source": [
    "#Load File\n",
    "df = pd.read_excel('laei-2019-major-roads-vkm-flows-speeds.xlsx')"
   ]
  },
  {
   "cell_type": "code",
   "execution_count": 4,
   "metadata": {},
   "outputs": [
    {
     "name": "stderr",
     "output_type": "stream",
     "text": [
      "C:\\Users\\roy.fong\\AppData\\Local\\Temp\\ipykernel_21896\\3709496324.py:2: FutureWarning: DataFrame.applymap has been deprecated. Use DataFrame.map instead.\n",
      "  df = df.applymap(lambda x: x.strip() if isinstance(x, str) else x)\n",
      "C:\\Users\\roy.fong\\AppData\\Local\\Temp\\ipykernel_21896\\3709496324.py:3: FutureWarning: Downcasting behavior in `replace` is deprecated and will be removed in a future version. To retain the old behavior, explicitly call `result.infer_objects(copy=False)`. To opt-in to the future behavior, set `pd.set_option('future.no_silent_downcasting', True)`\n",
      "  df.replace('-', np.nan, inplace=True)\n"
     ]
    }
   ],
   "source": [
    "print(df.shape)\n",
    "\n",
    "#Remove hyphen\n",
    "df = df.applymap(lambda x: x.strip() if isinstance(x, str) else x)\n",
    "df.replace('-', np.nan, inplace=True)\n",
    "\n",
    "#Missing value Handling\n",
    "df = df.dropna()\n",
    "\n",
    "#Rename columns\n",
    "df.columns = [x.strip() for x in df.columns]\n",
    "df = df.rename(columns ={'Speed (km/hr) - Except Buses':'Speed'})\n",
    "\n",
    "#Drop total columns\n",
    "df = df.drop(['AADT 2019 - Total','VKM 2019 - Total'],axis=1)\n",
    "\n",
    "print(df.shape)"
   ]
  },
  {
   "cell_type": "code",
   "execution_count": 5,
   "metadata": {},
   "outputs": [],
   "source": [
    "#Handling AADT and VKM data\n",
    "id_col = ['TOID','LAEI Zone', 'Borough', 'Road Classification','Speed','Link Length (m)']\n",
    "aadt_col = [col for col in df.columns if col.startswith('AADT')]\n",
    "vkm_col = [col for col in df.columns if col.startswith('VKM')]"
   ]
  },
  {
   "cell_type": "code",
   "execution_count": 6,
   "metadata": {},
   "outputs": [
    {
     "name": "stderr",
     "output_type": "stream",
     "text": [
      "C:\\Users\\roy.fong\\AppData\\Local\\Temp\\ipykernel_21896\\2768449500.py:3: SettingWithCopyWarning: \n",
      "A value is trying to be set on a copy of a slice from a DataFrame.\n",
      "Try using .loc[row_indexer,col_indexer] = value instead\n",
      "\n",
      "See the caveats in the documentation: https://pandas.pydata.org/pandas-docs/stable/user_guide/indexing.html#returning-a-view-versus-a-copy\n",
      "  df_aadt['Car'] = df_aadt['AADT Petrol Car'] + df_aadt['AADT Diesel Car'] + df_aadt['AADT Taxi']\n",
      "C:\\Users\\roy.fong\\AppData\\Local\\Temp\\ipykernel_21896\\2768449500.py:4: SettingWithCopyWarning: \n",
      "A value is trying to be set on a copy of a slice from a DataFrame.\n",
      "Try using .loc[row_indexer,col_indexer] = value instead\n",
      "\n",
      "See the caveats in the documentation: https://pandas.pydata.org/pandas-docs/stable/user_guide/indexing.html#returning-a-view-versus-a-copy\n",
      "  df_aadt['Public Transport'] = df_aadt['AADT 2019 - Buses'] + df_aadt['AADT 2019 - Coaches']\n",
      "C:\\Users\\roy.fong\\AppData\\Local\\Temp\\ipykernel_21896\\2768449500.py:5: SettingWithCopyWarning: \n",
      "A value is trying to be set on a copy of a slice from a DataFrame.\n",
      "Try using .loc[row_indexer,col_indexer] = value instead\n",
      "\n",
      "See the caveats in the documentation: https://pandas.pydata.org/pandas-docs/stable/user_guide/indexing.html#returning-a-view-versus-a-copy\n",
      "  df_aadt['PHV'] = df_aadt['AADT Petrol PHV'] + df_aadt['AADT Diesel PHV']\n",
      "C:\\Users\\roy.fong\\AppData\\Local\\Temp\\ipykernel_21896\\2768449500.py:6: SettingWithCopyWarning: \n",
      "A value is trying to be set on a copy of a slice from a DataFrame.\n",
      "Try using .loc[row_indexer,col_indexer] = value instead\n",
      "\n",
      "See the caveats in the documentation: https://pandas.pydata.org/pandas-docs/stable/user_guide/indexing.html#returning-a-view-versus-a-copy\n",
      "  df_aadt['LGV'] = df_aadt['AADT Petrol LGV'] + df_aadt['AADT Diesel LGV']\n",
      "C:\\Users\\roy.fong\\AppData\\Local\\Temp\\ipykernel_21896\\2768449500.py:7: SettingWithCopyWarning: \n",
      "A value is trying to be set on a copy of a slice from a DataFrame.\n",
      "Try using .loc[row_indexer,col_indexer] = value instead\n",
      "\n",
      "See the caveats in the documentation: https://pandas.pydata.org/pandas-docs/stable/user_guide/indexing.html#returning-a-view-versus-a-copy\n",
      "  df_aadt['Rigid'] = df_aadt['AADT 2019 - HGVs - Rigid - 2 Axles'] + df_aadt['AADT 2019 - HGVs - Rigid - 3 Axles'] + df_aadt['AADT 2019 - HGVs - Rigid - 4 or more Axles']\n",
      "C:\\Users\\roy.fong\\AppData\\Local\\Temp\\ipykernel_21896\\2768449500.py:8: SettingWithCopyWarning: \n",
      "A value is trying to be set on a copy of a slice from a DataFrame.\n",
      "Try using .loc[row_indexer,col_indexer] = value instead\n",
      "\n",
      "See the caveats in the documentation: https://pandas.pydata.org/pandas-docs/stable/user_guide/indexing.html#returning-a-view-versus-a-copy\n",
      "  df_aadt['Artic'] = df_aadt['AADT 2019 - HGVs - Articulated - 3 to 4 Axles'] + df_aadt['AADT 2019 - HGVs - Articulated - 5 Axles'] + df_aadt['AADT 2019 - HGVs - Articulated - 6 Axles']\n"
     ]
    },
    {
     "data": {
      "text/html": [
       "<div>\n",
       "<style scoped>\n",
       "    .dataframe tbody tr th:only-of-type {\n",
       "        vertical-align: middle;\n",
       "    }\n",
       "\n",
       "    .dataframe tbody tr th {\n",
       "        vertical-align: top;\n",
       "    }\n",
       "\n",
       "    .dataframe thead th {\n",
       "        text-align: right;\n",
       "    }\n",
       "</style>\n",
       "<table border=\"1\" class=\"dataframe\">\n",
       "  <thead>\n",
       "    <tr style=\"text-align: right;\">\n",
       "      <th></th>\n",
       "      <th>TOID</th>\n",
       "      <th>LAEI Zone</th>\n",
       "      <th>Borough</th>\n",
       "      <th>Road Classification</th>\n",
       "      <th>Speed</th>\n",
       "      <th>Link Length (m)</th>\n",
       "      <th>VehicleType</th>\n",
       "      <th>AADT</th>\n",
       "    </tr>\n",
       "  </thead>\n",
       "  <tbody>\n",
       "    <tr>\n",
       "      <th>0</th>\n",
       "      <td>osgb4000000030400377</td>\n",
       "      <td>Non-GLA</td>\n",
       "      <td>Non-GLA</td>\n",
       "      <td>A Road</td>\n",
       "      <td>44.0</td>\n",
       "      <td>22</td>\n",
       "      <td>Car</td>\n",
       "      <td>5898.0</td>\n",
       "    </tr>\n",
       "    <tr>\n",
       "      <th>1</th>\n",
       "      <td>osgb4000000030151183</td>\n",
       "      <td>Non-GLA</td>\n",
       "      <td>Non-GLA</td>\n",
       "      <td>A Road</td>\n",
       "      <td>37.0</td>\n",
       "      <td>105</td>\n",
       "      <td>Car</td>\n",
       "      <td>6228.0</td>\n",
       "    </tr>\n",
       "    <tr>\n",
       "      <th>2</th>\n",
       "      <td>osgb4000000030090345</td>\n",
       "      <td>Non-GLA</td>\n",
       "      <td>Non-GLA</td>\n",
       "      <td>A Road</td>\n",
       "      <td>46.0</td>\n",
       "      <td>187</td>\n",
       "      <td>Car</td>\n",
       "      <td>3828.0</td>\n",
       "    </tr>\n",
       "    <tr>\n",
       "      <th>3</th>\n",
       "      <td>osgb4000000027948232</td>\n",
       "      <td>Non-GLA</td>\n",
       "      <td>Non-GLA</td>\n",
       "      <td>A Road</td>\n",
       "      <td>34.0</td>\n",
       "      <td>51</td>\n",
       "      <td>Car</td>\n",
       "      <td>7465.0</td>\n",
       "    </tr>\n",
       "    <tr>\n",
       "      <th>4</th>\n",
       "      <td>osgb4000000030078494</td>\n",
       "      <td>Non-GLA</td>\n",
       "      <td>Non-GLA</td>\n",
       "      <td>A Road</td>\n",
       "      <td>42.0</td>\n",
       "      <td>511</td>\n",
       "      <td>Car</td>\n",
       "      <td>13680.0</td>\n",
       "    </tr>\n",
       "    <tr>\n",
       "      <th>...</th>\n",
       "      <td>...</td>\n",
       "      <td>...</td>\n",
       "      <td>...</td>\n",
       "      <td>...</td>\n",
       "      <td>...</td>\n",
       "      <td>...</td>\n",
       "      <td>...</td>\n",
       "      <td>...</td>\n",
       "    </tr>\n",
       "    <tr>\n",
       "      <th>268951</th>\n",
       "      <td>osgb4000000031088429</td>\n",
       "      <td>Central London</td>\n",
       "      <td>Westminster</td>\n",
       "      <td>B Road</td>\n",
       "      <td>20.0</td>\n",
       "      <td>21</td>\n",
       "      <td>Artic</td>\n",
       "      <td>9.0</td>\n",
       "    </tr>\n",
       "    <tr>\n",
       "      <th>268952</th>\n",
       "      <td>osgb4000000031088430</td>\n",
       "      <td>Central London</td>\n",
       "      <td>Westminster</td>\n",
       "      <td>B Road</td>\n",
       "      <td>20.0</td>\n",
       "      <td>21</td>\n",
       "      <td>Artic</td>\n",
       "      <td>6.0</td>\n",
       "    </tr>\n",
       "    <tr>\n",
       "      <th>268953</th>\n",
       "      <td>osgb4000000030419424</td>\n",
       "      <td>Central London</td>\n",
       "      <td>Islington</td>\n",
       "      <td>B Road</td>\n",
       "      <td>25.0</td>\n",
       "      <td>16</td>\n",
       "      <td>Artic</td>\n",
       "      <td>3.0</td>\n",
       "    </tr>\n",
       "    <tr>\n",
       "      <th>268954</th>\n",
       "      <td>osgb4000000030419425</td>\n",
       "      <td>Central London</td>\n",
       "      <td>Islington</td>\n",
       "      <td>B Road</td>\n",
       "      <td>26.0</td>\n",
       "      <td>25</td>\n",
       "      <td>Artic</td>\n",
       "      <td>3.0</td>\n",
       "    </tr>\n",
       "    <tr>\n",
       "      <th>268955</th>\n",
       "      <td>osgb4000000030237740</td>\n",
       "      <td>Central London</td>\n",
       "      <td>Westminster</td>\n",
       "      <td>B Road</td>\n",
       "      <td>30.0</td>\n",
       "      <td>118</td>\n",
       "      <td>Artic</td>\n",
       "      <td>9.0</td>\n",
       "    </tr>\n",
       "  </tbody>\n",
       "</table>\n",
       "<p>268956 rows × 8 columns</p>\n",
       "</div>"
      ],
      "text/plain": [
       "                        TOID       LAEI Zone      Borough Road Classification  \\\n",
       "0       osgb4000000030400377         Non-GLA      Non-GLA              A Road   \n",
       "1       osgb4000000030151183         Non-GLA      Non-GLA              A Road   \n",
       "2       osgb4000000030090345         Non-GLA      Non-GLA              A Road   \n",
       "3       osgb4000000027948232         Non-GLA      Non-GLA              A Road   \n",
       "4       osgb4000000030078494         Non-GLA      Non-GLA              A Road   \n",
       "...                      ...             ...          ...                 ...   \n",
       "268951  osgb4000000031088429  Central London  Westminster              B Road   \n",
       "268952  osgb4000000031088430  Central London  Westminster              B Road   \n",
       "268953  osgb4000000030419424  Central London    Islington              B Road   \n",
       "268954  osgb4000000030419425  Central London    Islington              B Road   \n",
       "268955  osgb4000000030237740  Central London  Westminster              B Road   \n",
       "\n",
       "        Speed  Link Length (m) VehicleType     AADT  \n",
       "0        44.0               22         Car   5898.0  \n",
       "1        37.0              105         Car   6228.0  \n",
       "2        46.0              187         Car   3828.0  \n",
       "3        34.0               51         Car   7465.0  \n",
       "4        42.0              511         Car  13680.0  \n",
       "...       ...              ...         ...      ...  \n",
       "268951   20.0               21       Artic      9.0  \n",
       "268952   20.0               21       Artic      6.0  \n",
       "268953   25.0               16       Artic      3.0  \n",
       "268954   26.0               25       Artic      3.0  \n",
       "268955   30.0              118       Artic      9.0  \n",
       "\n",
       "[268956 rows x 8 columns]"
      ]
     },
     "execution_count": 6,
     "metadata": {},
     "output_type": "execute_result"
    }
   ],
   "source": [
    "#For AADT data\n",
    "df_aadt = df[id_col + aadt_col]\n",
    "df_aadt['Car'] = df_aadt['AADT Petrol Car'] + df_aadt['AADT Diesel Car'] + df_aadt['AADT Taxi']\n",
    "df_aadt['Public Transport'] = df_aadt['AADT 2019 - Buses'] + df_aadt['AADT 2019 - Coaches']\n",
    "df_aadt['PHV'] = df_aadt['AADT Petrol PHV'] + df_aadt['AADT Diesel PHV']\n",
    "df_aadt['LGV'] = df_aadt['AADT Petrol LGV'] + df_aadt['AADT Diesel LGV']\n",
    "df_aadt['Rigid'] = df_aadt['AADT 2019 - HGVs - Rigid - 2 Axles'] + df_aadt['AADT 2019 - HGVs - Rigid - 3 Axles'] + df_aadt['AADT 2019 - HGVs - Rigid - 4 or more Axles']\n",
    "df_aadt['Artic'] = df_aadt['AADT 2019 - HGVs - Articulated - 3 to 4 Axles'] + df_aadt['AADT 2019 - HGVs - Articulated - 5 Axles'] + df_aadt['AADT 2019 - HGVs - Articulated - 6 Axles']\n",
    "aadt_col = ['Car','Public Transport','PHV','LGV','Rigid','Artic']\n",
    "df_aadt = df_aadt.melt(id_vars=id_col,\n",
    "                  value_vars=aadt_col, var_name='VehicleType', value_name='AADT')\n",
    "\n",
    "df_aadt['VehicleType'] = df_aadt['VehicleType'].str.replace('AADT 2019 - ','')\n",
    "df_aadt['VehicleType'] = df_aadt['VehicleType'].str.replace('AADT ','')\n",
    "df_aadt"
   ]
  },
  {
   "cell_type": "code",
   "execution_count": 7,
   "metadata": {},
   "outputs": [
    {
     "name": "stderr",
     "output_type": "stream",
     "text": [
      "C:\\Users\\roy.fong\\AppData\\Local\\Temp\\ipykernel_21896\\374338955.py:3: SettingWithCopyWarning: \n",
      "A value is trying to be set on a copy of a slice from a DataFrame.\n",
      "Try using .loc[row_indexer,col_indexer] = value instead\n",
      "\n",
      "See the caveats in the documentation: https://pandas.pydata.org/pandas-docs/stable/user_guide/indexing.html#returning-a-view-versus-a-copy\n",
      "  df_vkm['Car'] = df_vkm['VKM Petrol Car'] + df_vkm['VKM Diesel Car'] + df_vkm['VKM Taxi']\n",
      "C:\\Users\\roy.fong\\AppData\\Local\\Temp\\ipykernel_21896\\374338955.py:4: SettingWithCopyWarning: \n",
      "A value is trying to be set on a copy of a slice from a DataFrame.\n",
      "Try using .loc[row_indexer,col_indexer] = value instead\n",
      "\n",
      "See the caveats in the documentation: https://pandas.pydata.org/pandas-docs/stable/user_guide/indexing.html#returning-a-view-versus-a-copy\n",
      "  df_vkm['Public Transport'] = df_vkm['VKM 2019 - Buses'] + df_vkm['VKM 2019 - Coaches']\n",
      "C:\\Users\\roy.fong\\AppData\\Local\\Temp\\ipykernel_21896\\374338955.py:5: SettingWithCopyWarning: \n",
      "A value is trying to be set on a copy of a slice from a DataFrame.\n",
      "Try using .loc[row_indexer,col_indexer] = value instead\n",
      "\n",
      "See the caveats in the documentation: https://pandas.pydata.org/pandas-docs/stable/user_guide/indexing.html#returning-a-view-versus-a-copy\n",
      "  df_vkm['PHV'] = df_vkm['VKM Petrol PHV'] + df_vkm['VKM Diesel PHV']\n",
      "C:\\Users\\roy.fong\\AppData\\Local\\Temp\\ipykernel_21896\\374338955.py:6: SettingWithCopyWarning: \n",
      "A value is trying to be set on a copy of a slice from a DataFrame.\n",
      "Try using .loc[row_indexer,col_indexer] = value instead\n",
      "\n",
      "See the caveats in the documentation: https://pandas.pydata.org/pandas-docs/stable/user_guide/indexing.html#returning-a-view-versus-a-copy\n",
      "  df_vkm['LGV'] = df_vkm['VKM Petrol LGV'] + df_vkm['VKM Diesel LGV']\n",
      "C:\\Users\\roy.fong\\AppData\\Local\\Temp\\ipykernel_21896\\374338955.py:7: SettingWithCopyWarning: \n",
      "A value is trying to be set on a copy of a slice from a DataFrame.\n",
      "Try using .loc[row_indexer,col_indexer] = value instead\n",
      "\n",
      "See the caveats in the documentation: https://pandas.pydata.org/pandas-docs/stable/user_guide/indexing.html#returning-a-view-versus-a-copy\n",
      "  df_vkm['Rigid'] = df_vkm['VKM 2019 - HGVs - Rigid - 2 Axles'] + df_vkm['VKM 2019 - HGVs - Rigid - 3 Axles'] + df_vkm['VKM 2019 - HGVs - Rigid - 4 or more Axles']\n",
      "C:\\Users\\roy.fong\\AppData\\Local\\Temp\\ipykernel_21896\\374338955.py:8: SettingWithCopyWarning: \n",
      "A value is trying to be set on a copy of a slice from a DataFrame.\n",
      "Try using .loc[row_indexer,col_indexer] = value instead\n",
      "\n",
      "See the caveats in the documentation: https://pandas.pydata.org/pandas-docs/stable/user_guide/indexing.html#returning-a-view-versus-a-copy\n",
      "  df_vkm['Artic'] = df_vkm['VKM 2019 - HGVs - Articulated - 3 to 4 Axles'] + df_vkm['VKM 2019 - HGVs - Articulated - 5 Axles'] + df_vkm['VKM 2019 - HGVs - Articulated - 6 Axles']\n"
     ]
    }
   ],
   "source": [
    "#For VKM data\n",
    "df_vkm = df[id_col + vkm_col]\n",
    "df_vkm['Car'] = df_vkm['VKM Petrol Car'] + df_vkm['VKM Diesel Car'] + df_vkm['VKM Taxi']\n",
    "df_vkm['Public Transport'] = df_vkm['VKM 2019 - Buses'] + df_vkm['VKM 2019 - Coaches']\n",
    "df_vkm['PHV'] = df_vkm['VKM Petrol PHV'] + df_vkm['VKM Diesel PHV']\n",
    "df_vkm['LGV'] = df_vkm['VKM Petrol LGV'] + df_vkm['VKM Diesel LGV']\n",
    "df_vkm['Rigid'] = df_vkm['VKM 2019 - HGVs - Rigid - 2 Axles'] + df_vkm['VKM 2019 - HGVs - Rigid - 3 Axles'] + df_vkm['VKM 2019 - HGVs - Rigid - 4 or more Axles']\n",
    "df_vkm['Artic'] = df_vkm['VKM 2019 - HGVs - Articulated - 3 to 4 Axles'] + df_vkm['VKM 2019 - HGVs - Articulated - 5 Axles'] + df_vkm['VKM 2019 - HGVs - Articulated - 6 Axles']\n",
    "vkm_col = ['Car','Public Transport','PHV','LGV','Rigid','Artic']\n",
    "df_vkm = df_vkm.melt(id_vars=id_col,\n",
    "                  value_vars=vkm_col, var_name='VehicleType', value_name='VKM')\n"
   ]
  },
  {
   "cell_type": "code",
   "execution_count": 8,
   "metadata": {},
   "outputs": [],
   "source": [
    "#Merge AADT and VKM data\n",
    "df_clean = pd.merge(df_aadt, df_vkm, on=id_col + ['VehicleType'], how='inner')"
   ]
  },
  {
   "cell_type": "code",
   "execution_count": 9,
   "metadata": {},
   "outputs": [
    {
     "data": {
      "text/plain": [
       "array(['Car', 'Public Transport', 'PHV', 'LGV', 'Rigid', 'Artic'],\n",
       "      dtype=object)"
      ]
     },
     "execution_count": 9,
     "metadata": {},
     "output_type": "execute_result"
    }
   ],
   "source": [
    "#Check VehicleType\n",
    "df_clean.VehicleType.unique()"
   ]
  },
  {
   "cell_type": "markdown",
   "metadata": {},
   "source": [
    "### 2.2 Emission Data"
   ]
  },
  {
   "cell_type": "code",
   "execution_count": 11,
   "metadata": {},
   "outputs": [],
   "source": [
    "#Load Data - Choose Co2 sheet\n",
    "emission = pd.read_excel('LAEI2019-nox-pm-co2-major-roads-link-emissions.xlsx',sheet_name='CO2 Road Link Emissions')"
   ]
  },
  {
   "cell_type": "code",
   "execution_count": 12,
   "metadata": {},
   "outputs": [
    {
     "name": "stdout",
     "output_type": "stream",
     "text": [
      "(79439, 51)\n",
      "(79372, 51)\n"
     ]
    }
   ],
   "source": [
    "#Missing value Handling\n",
    "print(emission.shape)\n",
    "emission = emission.dropna()\n",
    "print(emission.shape)"
   ]
  },
  {
   "cell_type": "code",
   "execution_count": 13,
   "metadata": {},
   "outputs": [],
   "source": [
    "#Handling emission data\n",
    "TargetYear_col = [col for col in emission.columns if col.endswith('2019') or col in ['TOID', 'pollutant', 'emissions-units']]\n",
    "emission = emission[TargetYear_col]\n",
    "emission['Car'] = emission['Road-Car-Petrol-2019'] + emission['Road-Car-Diesel-2019'] + emission['Road-Taxi-2019']\n",
    "emission['Public Transport'] = emission['Road-TfL-Bus-2019'] + emission['Road-Non-TfL-Bus-or-Coach-2019']\n",
    "emission['PHV'] = emission['Road-PHV-Petrol-2019'] + emission['Road-PHV-Diesel-2019']\n",
    "emission['LGV'] = emission['Road-LGV-Petrol-2019'] + emission['Road-LGV-Diesel-2019']\n",
    "emission['Rigid'] = emission['Road-HGV-Rigid-2019']\n",
    "emission['Artic'] = emission['Road-HGV-Articulated-2019']\n",
    "emission_col = ['Car','Public Transport','PHV','LGV','Rigid','Artic']\n",
    "emission = emission[['TOID']+emission_col]\n"
   ]
  },
  {
   "cell_type": "code",
   "execution_count": 14,
   "metadata": {},
   "outputs": [],
   "source": [
    "#Melt table for VehicleType\n",
    "emission_clean = emission.melt(id_vars=['TOID'],\n",
    "                       value_vars=emission_col, var_name='VehicleType', value_name='Emission Value')"
   ]
  },
  {
   "cell_type": "code",
   "execution_count": 15,
   "metadata": {},
   "outputs": [
    {
     "data": {
      "text/html": [
       "<div>\n",
       "<style scoped>\n",
       "    .dataframe tbody tr th:only-of-type {\n",
       "        vertical-align: middle;\n",
       "    }\n",
       "\n",
       "    .dataframe tbody tr th {\n",
       "        vertical-align: top;\n",
       "    }\n",
       "\n",
       "    .dataframe thead th {\n",
       "        text-align: right;\n",
       "    }\n",
       "</style>\n",
       "<table border=\"1\" class=\"dataframe\">\n",
       "  <thead>\n",
       "    <tr style=\"text-align: right;\">\n",
       "      <th></th>\n",
       "      <th>TOID</th>\n",
       "      <th>VehicleType</th>\n",
       "      <th>Emission Value</th>\n",
       "    </tr>\n",
       "  </thead>\n",
       "  <tbody>\n",
       "    <tr>\n",
       "      <th>0</th>\n",
       "      <td>osgb4000000027865913</td>\n",
       "      <td>Car</td>\n",
       "      <td>4475.104067</td>\n",
       "    </tr>\n",
       "    <tr>\n",
       "      <th>1</th>\n",
       "      <td>osgb4000000027865914</td>\n",
       "      <td>Car</td>\n",
       "      <td>4408.603867</td>\n",
       "    </tr>\n",
       "    <tr>\n",
       "      <th>2</th>\n",
       "      <td>osgb4000000027865915</td>\n",
       "      <td>Car</td>\n",
       "      <td>5005.822564</td>\n",
       "    </tr>\n",
       "    <tr>\n",
       "      <th>3</th>\n",
       "      <td>osgb4000000027865916</td>\n",
       "      <td>Car</td>\n",
       "      <td>5680.263177</td>\n",
       "    </tr>\n",
       "    <tr>\n",
       "      <th>4</th>\n",
       "      <td>osgb4000000027865917</td>\n",
       "      <td>Car</td>\n",
       "      <td>3392.920660</td>\n",
       "    </tr>\n",
       "  </tbody>\n",
       "</table>\n",
       "</div>"
      ],
      "text/plain": [
       "                   TOID VehicleType  Emission Value\n",
       "0  osgb4000000027865913         Car     4475.104067\n",
       "1  osgb4000000027865914         Car     4408.603867\n",
       "2  osgb4000000027865915         Car     5005.822564\n",
       "3  osgb4000000027865916         Car     5680.263177\n",
       "4  osgb4000000027865917         Car     3392.920660"
      ]
     },
     "execution_count": 15,
     "metadata": {},
     "output_type": "execute_result"
    }
   ],
   "source": [
    "emission_clean.head()"
   ]
  },
  {
   "cell_type": "markdown",
   "metadata": {},
   "source": [
    "### 2.3 Main DataFrame"
   ]
  },
  {
   "cell_type": "code",
   "execution_count": 16,
   "metadata": {},
   "outputs": [
    {
     "data": {
      "text/plain": [
       "(268818, 10)"
      ]
     },
     "execution_count": 16,
     "metadata": {},
     "output_type": "execute_result"
    }
   ],
   "source": [
    "#Merge table for main dataframe\n",
    "main_df = pd.merge(df_clean,emission_clean,on=['TOID','VehicleType'],how='inner')\n",
    "main_df.shape"
   ]
  },
  {
   "cell_type": "code",
   "execution_count": 17,
   "metadata": {},
   "outputs": [
    {
     "data": {
      "text/html": [
       "<div>\n",
       "<style scoped>\n",
       "    .dataframe tbody tr th:only-of-type {\n",
       "        vertical-align: middle;\n",
       "    }\n",
       "\n",
       "    .dataframe tbody tr th {\n",
       "        vertical-align: top;\n",
       "    }\n",
       "\n",
       "    .dataframe thead th {\n",
       "        text-align: right;\n",
       "    }\n",
       "</style>\n",
       "<table border=\"1\" class=\"dataframe\">\n",
       "  <thead>\n",
       "    <tr style=\"text-align: right;\">\n",
       "      <th></th>\n",
       "      <th>TOID</th>\n",
       "      <th>LAEI Zone</th>\n",
       "      <th>Borough</th>\n",
       "      <th>Road Classification</th>\n",
       "      <th>Speed</th>\n",
       "      <th>Link Length (m)</th>\n",
       "      <th>VehicleType</th>\n",
       "      <th>AADT</th>\n",
       "      <th>VKM</th>\n",
       "      <th>Emission Value</th>\n",
       "    </tr>\n",
       "  </thead>\n",
       "  <tbody>\n",
       "    <tr>\n",
       "      <th>0</th>\n",
       "      <td>osgb4000000030400377</td>\n",
       "      <td>Non-GLA</td>\n",
       "      <td>Non-GLA</td>\n",
       "      <td>A Road</td>\n",
       "      <td>44.0</td>\n",
       "      <td>22</td>\n",
       "      <td>Car</td>\n",
       "      <td>5898.0</td>\n",
       "      <td>47357.0</td>\n",
       "      <td>6.356939</td>\n",
       "    </tr>\n",
       "    <tr>\n",
       "      <th>1</th>\n",
       "      <td>osgb4000000030151183</td>\n",
       "      <td>Non-GLA</td>\n",
       "      <td>Non-GLA</td>\n",
       "      <td>A Road</td>\n",
       "      <td>37.0</td>\n",
       "      <td>105</td>\n",
       "      <td>Car</td>\n",
       "      <td>6228.0</td>\n",
       "      <td>238209.0</td>\n",
       "      <td>34.176009</td>\n",
       "    </tr>\n",
       "    <tr>\n",
       "      <th>2</th>\n",
       "      <td>osgb4000000030090345</td>\n",
       "      <td>Non-GLA</td>\n",
       "      <td>Non-GLA</td>\n",
       "      <td>A Road</td>\n",
       "      <td>46.0</td>\n",
       "      <td>187</td>\n",
       "      <td>Car</td>\n",
       "      <td>3828.0</td>\n",
       "      <td>261606.0</td>\n",
       "      <td>34.818740</td>\n",
       "    </tr>\n",
       "    <tr>\n",
       "      <th>3</th>\n",
       "      <td>osgb4000000027948232</td>\n",
       "      <td>Non-GLA</td>\n",
       "      <td>Non-GLA</td>\n",
       "      <td>A Road</td>\n",
       "      <td>34.0</td>\n",
       "      <td>51</td>\n",
       "      <td>Car</td>\n",
       "      <td>7465.0</td>\n",
       "      <td>138959.0</td>\n",
       "      <td>20.812516</td>\n",
       "    </tr>\n",
       "    <tr>\n",
       "      <th>4</th>\n",
       "      <td>osgb4000000030078494</td>\n",
       "      <td>Non-GLA</td>\n",
       "      <td>Non-GLA</td>\n",
       "      <td>A Road</td>\n",
       "      <td>42.0</td>\n",
       "      <td>511</td>\n",
       "      <td>Car</td>\n",
       "      <td>13680.0</td>\n",
       "      <td>2551410.0</td>\n",
       "      <td>348.135065</td>\n",
       "    </tr>\n",
       "  </tbody>\n",
       "</table>\n",
       "</div>"
      ],
      "text/plain": [
       "                   TOID LAEI Zone  Borough Road Classification  Speed  \\\n",
       "0  osgb4000000030400377   Non-GLA  Non-GLA              A Road   44.0   \n",
       "1  osgb4000000030151183   Non-GLA  Non-GLA              A Road   37.0   \n",
       "2  osgb4000000030090345   Non-GLA  Non-GLA              A Road   46.0   \n",
       "3  osgb4000000027948232   Non-GLA  Non-GLA              A Road   34.0   \n",
       "4  osgb4000000030078494   Non-GLA  Non-GLA              A Road   42.0   \n",
       "\n",
       "   Link Length (m) VehicleType     AADT        VKM  Emission Value  \n",
       "0               22         Car   5898.0    47357.0        6.356939  \n",
       "1              105         Car   6228.0   238209.0       34.176009  \n",
       "2              187         Car   3828.0   261606.0       34.818740  \n",
       "3               51         Car   7465.0   138959.0       20.812516  \n",
       "4              511         Car  13680.0  2551410.0      348.135065  "
      ]
     },
     "execution_count": 17,
     "metadata": {},
     "output_type": "execute_result"
    }
   ],
   "source": [
    "main_df.head()"
   ]
  },
  {
   "cell_type": "markdown",
   "metadata": {},
   "source": [
    "### 2.4 LinearRegression"
   ]
  },
  {
   "cell_type": "code",
   "execution_count": 64,
   "metadata": {},
   "outputs": [],
   "source": [
    "#Define function for modelling\n",
    "X = main_df.iloc[:, 4:-1]\n",
    "y = main_df.iloc[:, -1:]\n",
    "def lr_model(X, y, model_name='lr',alpha=0.1,cross_val=False,scoring='r2'):\n",
    "\n",
    "    # build the model\n",
    "    X_train, X_test, y_train, y_test = train_test_split(X, y, test_size=0.2, random_state=42)\n",
    "    if model_name=='l1':\n",
    "        lm = Lasso(alpha=alpha)\n",
    "    elif model_name=='l2':\n",
    "        lm = Ridge(alpha=alpha)\n",
    "    elif model_name=='rf':\n",
    "        lm = RandomForestRegressor(n_estimators=100, random_state=42)\n",
    "    else:\n",
    "        lm = LinearRegression(fit_intercept=True)\n",
    "    encoder_one_hot = OneHotEncoder()\n",
    "    X_train_e = encoder_one_hot.fit_transform(X_train['VehicleType'].values.reshape(-1, 1))\n",
    "    X_test_e = encoder_one_hot.transform(X_test['VehicleType'].values.reshape(-1, 1))\n",
    "\n",
    "    scaler = StandardScaler()\n",
    "    X_train_num = scaler.fit_transform(X_train.drop('VehicleType',axis=1))\n",
    "    X_test_num = scaler.transform(X_test.drop('VehicleType',axis=1))\n",
    "\n",
    "    X_train = np.hstack((X_train_e.toarray(), X_train_num))\n",
    "    X_test = np.hstack((X_test_e.toarray(), X_test_num))\n",
    "\n",
    "    if cross_val==True:\n",
    "        scores = cross_val_score(lm, X_train, y_train, cv=5, scoring=scoring)\n",
    "        return {scoring:scores, f'Average of {scoring}':scores.mean()}\n",
    "\n",
    "    lm.fit(X_train, y_train)\n",
    "    y_pred = lm.predict(X_test)\n",
    "    \n",
    "    mae = mean_absolute_error(y_test, y_pred)\n",
    "    mse = mean_squared_error(y_test, y_pred)\n",
    "    r2 = r2_score(y_test, y_pred)\n",
    "\n",
    "    if model_name != 'rf':\n",
    "        print(\"\")\n",
    "        # Coefficient\n",
    "        print('Coefficients:')\n",
    "        print(lm.coef_)\n",
    "\n",
    "        print(\"\")\n",
    "        # Intercept\n",
    "        print('Intercept:')\n",
    "        print(lm.intercept_)\n",
    "\n",
    "        y_test = y_test.values.ravel()  # or use .flatten() to achieve the same\n",
    "        y_pred = y_pred.ravel()         # or use .flatten()\n",
    "\n",
    "        # 1. Regression Line Plot\n",
    "        plt.figure(figsize=(10, 6))\n",
    "        plt.scatter(y_test, y_pred, color=\"blue\", label='Data Points')\n",
    "        # Add the best fit line (regression line)\n",
    "        m, b = np.polyfit(y_test, y_pred, 1)\n",
    "        plt.plot(y_test, m * y_test + b, color=\"red\", label=\"Best Fit Line\", linewidth=2)\n",
    "        plt.xlabel('Actual Values')\n",
    "        plt.ylabel('Predicted Values')\n",
    "        plt.title('Regression Line Plot')\n",
    "        plt.legend()\n",
    "        plt.show()\n",
    "\n",
    "        # 2. Explained Variance (Bar Plot)\n",
    "        r2 = r2_score(y_test, y_pred)\n",
    "        explained_variance = r2\n",
    "        unexplained_variance = 1 - r2\n",
    "\n",
    "        plt.figure(figsize=(6, 6))\n",
    "        plt.bar(['Explained Variance', 'Unexplained Variance'], [explained_variance, unexplained_variance], color=['green', 'red'])\n",
    "        plt.title('Explained vs Unexplained Variance (R^2)')\n",
    "        plt.ylabel('Variance Proportion')\n",
    "        plt.show()\n",
    "    \n",
    "    return {'MAE': mae, 'MSE': mse, 'R^2': r2 }"
   ]
  },
  {
   "cell_type": "code",
   "execution_count": 23,
   "metadata": {},
   "outputs": [
    {
     "name": "stdout",
     "output_type": "stream",
     "text": [
      "\n",
      "Coefficients:\n",
      "[[ 9.65879952e+10  9.65879952e+10  9.65879952e+10  9.65879952e+10\n",
      "   9.65879952e+10  9.65879952e+10 -2.52347320e+00  7.76636766e+00\n",
      "   4.68475547e+00  3.43638846e+01]]\n",
      "\n",
      "Intercept:\n",
      "[-9.65879952e+10]\n"
     ]
    },
    {
     "data": {
      "image/png": "[encoded data removed]",
      "text/plain": [
       "<Figure size 1000x600 with 1 Axes>"
      ]
     },
     "metadata": {},
     "output_type": "display_data"
    },
    {
     "data": {
      "image/png": "[encoded data removed]",
      "text/plain": [
       "<Figure size 600x600 with 1 Axes>"
      ]
     },
     "metadata": {},
     "output_type": "display_data"
    }
   ],
   "source": [
    "#Running LinearRegression\n",
    "basic = lr_model(X,y)\n"
   ]
  },
  {
   "cell_type": "code",
   "execution_count": 27,
   "metadata": {},
   "outputs": [
    {
     "name": "stdout",
     "output_type": "stream",
     "text": [
      "\n",
      "Coefficients:\n",
      "[[-0.66829692 -3.79343403 -0.80203357 -4.76903695  8.00952788  2.02327363\n",
      "  -2.5234652   7.76636201  4.68480723 34.3638411 ]]\n",
      "\n",
      "Intercept:\n",
      "[14.89100444]\n"
     ]
    },
    {
     "data": {
      "image/png": "[encoded data removed]",
      "text/plain": [
       "<Figure size 1000x600 with 1 Axes>"
      ]
     },
     "metadata": {},
     "output_type": "display_data"
    },
    {
     "data": {
      "image/png": "[encoded data removed]",
      "text/plain": [
       "<Figure size 600x600 with 1 Axes>"
      ]
     },
     "metadata": {},
     "output_type": "display_data"
    }
   ],
   "source": [
    "#Add regularisation\n",
    "reg_l2 = lr_model(X,y,model_name='l2')"
   ]
  },
  {
   "cell_type": "code",
   "execution_count": 24,
   "metadata": {},
   "outputs": [
    {
     "name": "stdout",
     "output_type": "stream",
     "text": [
      "\n",
      "Coefficients:\n",
      "[-0.         -0.63797473  0.         -3.52477836  8.06336584  2.03505765\n",
      " -2.32210421  7.62818011  3.75646625 34.44208628]\n",
      "\n",
      "Intercept:\n",
      "[13.90073921]\n"
     ]
    },
    {
     "data": {
      "image/png": "[encoded data removed]",
      "text/plain": [
       "<Figure size 1000x600 with 1 Axes>"
      ]
     },
     "metadata": {},
     "output_type": "display_data"
    },
    {
     "data": {
      "image/png": "[encoded data removed]",
      "text/plain": [
       "<Figure size 600x600 with 1 Axes>"
      ]
     },
     "metadata": {},
     "output_type": "display_data"
    }
   ],
   "source": [
    "#Add regularisation\n",
    "reg_l1 = lr_model(X,y,model_name='l1')"
   ]
  },
  {
   "cell_type": "markdown",
   "metadata": {},
   "source": [
    "the performance of all three models is very similar. Lasso shows a slight improvement in terms of absolute error (MAE), but the differences are minimal, and any of these models could be a reasonable choice depending on the specific use case."
   ]
  },
  {
   "cell_type": "code",
   "execution_count": 70,
   "metadata": {},
   "outputs": [],
   "source": [
    "Summary = pd.DataFrame([basic,reg_l1,reg_l2],index=['LR','Lasso','Ridge'])"
   ]
  },
  {
   "cell_type": "code",
   "execution_count": 61,
   "metadata": {},
   "outputs": [
    {
     "data": {
      "text/html": [
       "<div>\n",
       "<style scoped>\n",
       "    .dataframe tbody tr th:only-of-type {\n",
       "        vertical-align: middle;\n",
       "    }\n",
       "\n",
       "    .dataframe tbody tr th {\n",
       "        vertical-align: top;\n",
       "    }\n",
       "\n",
       "    .dataframe thead th {\n",
       "        text-align: right;\n",
       "    }\n",
       "</style>\n",
       "<table border=\"1\" class=\"dataframe\">\n",
       "  <thead>\n",
       "    <tr style=\"text-align: right;\">\n",
       "      <th></th>\n",
       "      <th>0</th>\n",
       "      <th>1</th>\n",
       "      <th>2</th>\n",
       "      <th>3</th>\n",
       "      <th>4</th>\n",
       "      <th>Average</th>\n",
       "    </tr>\n",
       "  </thead>\n",
       "  <tbody>\n",
       "    <tr>\n",
       "      <th>LR</th>\n",
       "      <td>-5.558084</td>\n",
       "      <td>-5.666548</td>\n",
       "      <td>-5.576234</td>\n",
       "      <td>-5.545908</td>\n",
       "      <td>-5.738530</td>\n",
       "      <td>-5.617061</td>\n",
       "    </tr>\n",
       "    <tr>\n",
       "      <th>Lasso</th>\n",
       "      <td>-5.429901</td>\n",
       "      <td>-5.531180</td>\n",
       "      <td>-5.431218</td>\n",
       "      <td>-5.416342</td>\n",
       "      <td>-5.600445</td>\n",
       "      <td>-5.481817</td>\n",
       "    </tr>\n",
       "    <tr>\n",
       "      <th>Ridge</th>\n",
       "      <td>-5.562883</td>\n",
       "      <td>-5.666353</td>\n",
       "      <td>-5.577220</td>\n",
       "      <td>-5.546192</td>\n",
       "      <td>-5.738479</td>\n",
       "      <td>-5.618225</td>\n",
       "    </tr>\n",
       "  </tbody>\n",
       "</table>\n",
       "</div>"
      ],
      "text/plain": [
       "              0         1         2         3         4   Average\n",
       "LR    -5.558084 -5.666548 -5.576234 -5.545908 -5.738530 -5.617061\n",
       "Lasso -5.429901 -5.531180 -5.431218 -5.416342 -5.600445 -5.481817\n",
       "Ridge -5.562883 -5.666353 -5.577220 -5.546192 -5.738479 -5.618225"
      ]
     },
     "execution_count": 61,
     "metadata": {},
     "output_type": "execute_result"
    }
   ],
   "source": [
    "#Use cross validation on -MAE\n",
    "cv_basic = lr_model(X,y,scoring='neg_mean_absolute_error',cross_val=True)\n",
    "cv_l1 = lr_model(X,y,model_name='l1',scoring='neg_mean_absolute_error',alpha=0.2,cross_val=True)\n",
    "cv_l2 = lr_model(X,y,model_name='l2',scoring='neg_mean_absolute_error',alpha=0.2,cross_val=True)\n",
    "Summary_cv = pd.DataFrame([cv_basic['neg_mean_absolute_error'],cv_l1['neg_mean_absolute_error'],cv_l2['neg_mean_absolute_error']],index=['LR','Lasso','Ridge'])\n",
    "Summary_cv['Average'] = Summary_cv.mean(axis=1)\n",
    "Summary_cv"
   ]
  },
  {
   "cell_type": "markdown",
   "metadata": {},
   "source": [
    "#### 2.4.2 CrossValidation"
   ]
  },
  {
   "cell_type": "code",
   "execution_count": 81,
   "metadata": {},
   "outputs": [
    {
     "data": {
      "text/html": [
       "<div>\n",
       "<style scoped>\n",
       "    .dataframe tbody tr th:only-of-type {\n",
       "        vertical-align: middle;\n",
       "    }\n",
       "\n",
       "    .dataframe tbody tr th {\n",
       "        vertical-align: top;\n",
       "    }\n",
       "\n",
       "    .dataframe thead th {\n",
       "        text-align: right;\n",
       "    }\n",
       "</style>\n",
       "<table border=\"1\" class=\"dataframe\">\n",
       "  <thead>\n",
       "    <tr style=\"text-align: right;\">\n",
       "      <th></th>\n",
       "      <th>0</th>\n",
       "      <th>1</th>\n",
       "      <th>2</th>\n",
       "      <th>3</th>\n",
       "      <th>4</th>\n",
       "      <th>Average</th>\n",
       "    </tr>\n",
       "  </thead>\n",
       "  <tbody>\n",
       "    <tr>\n",
       "      <th>LR</th>\n",
       "      <td>0.899107</td>\n",
       "      <td>0.878152</td>\n",
       "      <td>0.915584</td>\n",
       "      <td>0.903480</td>\n",
       "      <td>0.890141</td>\n",
       "      <td>0.897293</td>\n",
       "    </tr>\n",
       "    <tr>\n",
       "      <th>Lasso</th>\n",
       "      <td>0.898291</td>\n",
       "      <td>0.877285</td>\n",
       "      <td>0.914934</td>\n",
       "      <td>0.902528</td>\n",
       "      <td>0.889123</td>\n",
       "      <td>0.896432</td>\n",
       "    </tr>\n",
       "    <tr>\n",
       "      <th>Ridge</th>\n",
       "      <td>0.899111</td>\n",
       "      <td>0.878152</td>\n",
       "      <td>0.915583</td>\n",
       "      <td>0.903480</td>\n",
       "      <td>0.890140</td>\n",
       "      <td>0.897293</td>\n",
       "    </tr>\n",
       "  </tbody>\n",
       "</table>\n",
       "</div>"
      ],
      "text/plain": [
       "              0         1         2         3         4   Average\n",
       "LR     0.899107  0.878152  0.915584  0.903480  0.890141  0.897293\n",
       "Lasso  0.898291  0.877285  0.914934  0.902528  0.889123  0.896432\n",
       "Ridge  0.899111  0.878152  0.915583  0.903480  0.890140  0.897293"
      ]
     },
     "execution_count": 81,
     "metadata": {},
     "output_type": "execute_result"
    }
   ],
   "source": [
    "#Use cross validation on R^2\n",
    "cv_basic = lr_model(X,y,cross_val=True)\n",
    "cv_l1 = lr_model(X,y,model_name='l1',alpha=0.2,cross_val=True)\n",
    "cv_l2 = lr_model(X,y,model_name='l2',alpha=0.2,cross_val=True)\n",
    "Summary_cv = pd.DataFrame([cv_basic['r2'],cv_l1['r2'],cv_l2['r2']],index=['LR','Lasso','Ridge'])\n",
    "Summary_cv['Average'] = Summary_cv.mean(axis=1)\n",
    "Summary_cv"
   ]
  },
  {
   "cell_type": "markdown",
   "metadata": {},
   "source": [
    "### 2.5 RandomForest"
   ]
  },
  {
   "cell_type": "code",
   "execution_count": 65,
   "metadata": {},
   "outputs": [
    {
     "name": "stderr",
     "output_type": "stream",
     "text": [
      "c:\\ProgramData\\anaconda3\\Lib\\site-packages\\sklearn\\base.py:1151: DataConversionWarning: A column-vector y was passed when a 1d array was expected. Please change the shape of y to (n_samples,), for example using ravel().\n",
      "  return fit_method(estimator, *args, **kwargs)\n"
     ]
    }
   ],
   "source": [
    "# Initialize and fit\n",
    "rf = lr_model(X,y,model_name='rf')"
   ]
  },
  {
   "cell_type": "code",
   "execution_count": 67,
   "metadata": {},
   "outputs": [
    {
     "data": {
      "text/html": [
       "<div>\n",
       "<style scoped>\n",
       "    .dataframe tbody tr th:only-of-type {\n",
       "        vertical-align: middle;\n",
       "    }\n",
       "\n",
       "    .dataframe tbody tr th {\n",
       "        vertical-align: top;\n",
       "    }\n",
       "\n",
       "    .dataframe thead th {\n",
       "        text-align: right;\n",
       "    }\n",
       "</style>\n",
       "<table border=\"1\" class=\"dataframe\">\n",
       "  <thead>\n",
       "    <tr style=\"text-align: right;\">\n",
       "      <th></th>\n",
       "      <th>MAE</th>\n",
       "      <th>MSE</th>\n",
       "      <th>R^2</th>\n",
       "    </tr>\n",
       "  </thead>\n",
       "  <tbody>\n",
       "    <tr>\n",
       "      <th>RandomForest</th>\n",
       "      <td>0.555249</td>\n",
       "      <td>22.169875</td>\n",
       "      <td>0.987093</td>\n",
       "    </tr>\n",
       "  </tbody>\n",
       "</table>\n",
       "</div>"
      ],
      "text/plain": [
       "                   MAE        MSE       R^2\n",
       "RandomForest  0.555249  22.169875  0.987093"
      ]
     },
     "execution_count": 67,
     "metadata": {},
     "output_type": "execute_result"
    }
   ],
   "source": [
    "Summary_rf = pd.DataFrame([{'MAE': rf['MAE'], 'MSE': rf['MSE'], 'R^2': rf['R^2'] }],index=['RandomForest'])\n",
    "Summary_rf"
   ]
  },
  {
   "cell_type": "markdown",
   "metadata": {},
   "source": [
    "#### 2.5.2 CrossValidation"
   ]
  },
  {
   "cell_type": "code",
   "execution_count": 68,
   "metadata": {},
   "outputs": [
    {
     "name": "stderr",
     "output_type": "stream",
     "text": [
      "c:\\ProgramData\\anaconda3\\Lib\\site-packages\\sklearn\\base.py:1151: DataConversionWarning: A column-vector y was passed when a 1d array was expected. Please change the shape of y to (n_samples,), for example using ravel().\n",
      "  return fit_method(estimator, *args, **kwargs)\n",
      "c:\\ProgramData\\anaconda3\\Lib\\site-packages\\sklearn\\base.py:1151: DataConversionWarning: A column-vector y was passed when a 1d array was expected. Please change the shape of y to (n_samples,), for example using ravel().\n",
      "  return fit_method(estimator, *args, **kwargs)\n",
      "c:\\ProgramData\\anaconda3\\Lib\\site-packages\\sklearn\\base.py:1151: DataConversionWarning: A column-vector y was passed when a 1d array was expected. Please change the shape of y to (n_samples,), for example using ravel().\n",
      "  return fit_method(estimator, *args, **kwargs)\n",
      "c:\\ProgramData\\anaconda3\\Lib\\site-packages\\sklearn\\base.py:1151: DataConversionWarning: A column-vector y was passed when a 1d array was expected. Please change the shape of y to (n_samples,), for example using ravel().\n",
      "  return fit_method(estimator, *args, **kwargs)\n",
      "c:\\ProgramData\\anaconda3\\Lib\\site-packages\\sklearn\\base.py:1151: DataConversionWarning: A column-vector y was passed when a 1d array was expected. Please change the shape of y to (n_samples,), for example using ravel().\n",
      "  return fit_method(estimator, *args, **kwargs)\n"
     ]
    }
   ],
   "source": [
    "rf_cv = lr_model(X,y,model_name='rf',cross_val=True)"
   ]
  },
  {
   "cell_type": "code",
   "execution_count": 76,
   "metadata": {},
   "outputs": [],
   "source": [
    "rf_summary_cv = pd.DataFrame([rf_cv['r2']],index=['RandomForest'])\n",
    "rf_summary_cv['Average'] = rf_summary_cv.mean(axis=1)\n"
   ]
  },
  {
   "cell_type": "markdown",
   "metadata": {},
   "source": [
    "### 2.6 Modelling Summary"
   ]
  },
  {
   "cell_type": "code",
   "execution_count": 71,
   "metadata": {},
   "outputs": [
    {
     "data": {
      "text/html": [
       "<div>\n",
       "<style scoped>\n",
       "    .dataframe tbody tr th:only-of-type {\n",
       "        vertical-align: middle;\n",
       "    }\n",
       "\n",
       "    .dataframe tbody tr th {\n",
       "        vertical-align: top;\n",
       "    }\n",
       "\n",
       "    .dataframe thead th {\n",
       "        text-align: right;\n",
       "    }\n",
       "</style>\n",
       "<table border=\"1\" class=\"dataframe\">\n",
       "  <thead>\n",
       "    <tr style=\"text-align: right;\">\n",
       "      <th></th>\n",
       "      <th>MAE</th>\n",
       "      <th>MSE</th>\n",
       "      <th>R^2</th>\n",
       "    </tr>\n",
       "  </thead>\n",
       "  <tbody>\n",
       "    <tr>\n",
       "      <th>LR</th>\n",
       "      <td>5.530700</td>\n",
       "      <td>149.342664</td>\n",
       "      <td>0.913056</td>\n",
       "    </tr>\n",
       "    <tr>\n",
       "      <th>Lasso</th>\n",
       "      <td>5.446101</td>\n",
       "      <td>149.563762</td>\n",
       "      <td>0.912927</td>\n",
       "    </tr>\n",
       "    <tr>\n",
       "      <th>Ridge</th>\n",
       "      <td>5.530887</td>\n",
       "      <td>149.342480</td>\n",
       "      <td>0.913056</td>\n",
       "    </tr>\n",
       "    <tr>\n",
       "      <th>RandomForest</th>\n",
       "      <td>0.555249</td>\n",
       "      <td>22.169875</td>\n",
       "      <td>0.987093</td>\n",
       "    </tr>\n",
       "  </tbody>\n",
       "</table>\n",
       "</div>"
      ],
      "text/plain": [
       "                   MAE         MSE       R^2\n",
       "LR            5.530700  149.342664  0.913056\n",
       "Lasso         5.446101  149.563762  0.912927\n",
       "Ridge         5.530887  149.342480  0.913056\n",
       "RandomForest  0.555249   22.169875  0.987093"
      ]
     },
     "execution_count": 71,
     "metadata": {},
     "output_type": "execute_result"
    }
   ],
   "source": [
    "pd.concat([Summary,Summary_rf])"
   ]
  },
  {
   "cell_type": "code",
   "execution_count": 82,
   "metadata": {},
   "outputs": [
    {
     "data": {
      "text/html": [
       "<div>\n",
       "<style scoped>\n",
       "    .dataframe tbody tr th:only-of-type {\n",
       "        vertical-align: middle;\n",
       "    }\n",
       "\n",
       "    .dataframe tbody tr th {\n",
       "        vertical-align: top;\n",
       "    }\n",
       "\n",
       "    .dataframe thead th {\n",
       "        text-align: right;\n",
       "    }\n",
       "</style>\n",
       "<table border=\"1\" class=\"dataframe\">\n",
       "  <thead>\n",
       "    <tr style=\"text-align: right;\">\n",
       "      <th></th>\n",
       "      <th>0</th>\n",
       "      <th>1</th>\n",
       "      <th>2</th>\n",
       "      <th>3</th>\n",
       "      <th>4</th>\n",
       "      <th>Average</th>\n",
       "    </tr>\n",
       "  </thead>\n",
       "  <tbody>\n",
       "    <tr>\n",
       "      <th>LR</th>\n",
       "      <td>0.899107</td>\n",
       "      <td>0.878152</td>\n",
       "      <td>0.915584</td>\n",
       "      <td>0.903480</td>\n",
       "      <td>0.890141</td>\n",
       "      <td>0.897293</td>\n",
       "    </tr>\n",
       "    <tr>\n",
       "      <th>Lasso</th>\n",
       "      <td>0.898291</td>\n",
       "      <td>0.877285</td>\n",
       "      <td>0.914934</td>\n",
       "      <td>0.902528</td>\n",
       "      <td>0.889123</td>\n",
       "      <td>0.896432</td>\n",
       "    </tr>\n",
       "    <tr>\n",
       "      <th>Ridge</th>\n",
       "      <td>0.899111</td>\n",
       "      <td>0.878152</td>\n",
       "      <td>0.915583</td>\n",
       "      <td>0.903480</td>\n",
       "      <td>0.890140</td>\n",
       "      <td>0.897293</td>\n",
       "    </tr>\n",
       "    <tr>\n",
       "      <th>RandomForest</th>\n",
       "      <td>0.983243</td>\n",
       "      <td>0.958435</td>\n",
       "      <td>0.995137</td>\n",
       "      <td>0.990241</td>\n",
       "      <td>0.983048</td>\n",
       "      <td>0.982021</td>\n",
       "    </tr>\n",
       "  </tbody>\n",
       "</table>\n",
       "</div>"
      ],
      "text/plain": [
       "                     0         1         2         3         4   Average\n",
       "LR            0.899107  0.878152  0.915584  0.903480  0.890141  0.897293\n",
       "Lasso         0.898291  0.877285  0.914934  0.902528  0.889123  0.896432\n",
       "Ridge         0.899111  0.878152  0.915583  0.903480  0.890140  0.897293\n",
       "RandomForest  0.983243  0.958435  0.995137  0.990241  0.983048  0.982021"
      ]
     },
     "execution_count": 82,
     "metadata": {},
     "output_type": "execute_result"
    }
   ],
   "source": [
    "pd.concat([Summary_cv,rf_summary_cv])"
   ]
  },
  {
   "cell_type": "code",
   "execution_count": null,
   "metadata": {},
   "outputs": [],
   "source": []
  }
 ],
 "metadata": {
  "kernelspec": {
   "display_name": "Python 3",
   "language": "python",
   "name": "python3"
  },
  "language_info": {
   "codemirror_mode": {
    "name": "ipython",
    "version": 3
   },
   "file_extension": ".py",
   "mimetype": "text/x-python",
   "name": "python",
   "nbconvert_exporter": "python",
   "pygments_lexer": "ipython3",
   "version": "3.11.4"
  }
 },
 "nbformat": 4,
 "nbformat_minor": 2
}
